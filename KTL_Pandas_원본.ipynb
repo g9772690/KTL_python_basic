{
  "cells": [
    {
      "cell_type": "markdown",
      "metadata": {
        "id": "view-in-github",
        "colab_type": "text"
      },
      "source": [
        "<a href=\"https://colab.research.google.com/github/g9772690/KTL_python_basic/blob/main/KTL_Pandas_%EC%9B%90%EB%B3%B8.ipynb\" target=\"_parent\"><img src=\"https://colab.research.google.com/assets/colab-badge.svg\" alt=\"Open In Colab\"/></a>"
      ]
    },
    {
      "cell_type": "markdown",
      "metadata": {
        "id": "hyxaojskEwRt"
      },
      "source": [
        "# pandas\n",
        "\n",
        "*  pandas 라이브러리는 데이타 분석을 위해 널리 사용되는 파이썬 라이브러리 패키지로써 사용하기 쉬운 고성능 데이터 구조와 데이터 분석 도구를 제공한다.\n",
        "*  주 데이터 구조는 `DataFrame`으로 2D 테이블로 생각할 수 있다(열 이름과 행 레이블이 있는 스프레드시트와 비슷하다).\n",
        "*  엑셀에 있는 많은 기능을 프로그램에서 사용할 수 있다. 여기에는 피봇 테이블이나 다른 열을 기반으로 열을 계산하고 그래프 출력하는 기능 등이 포함된다.\n",
        "*  열 값으로 행을 그룹핑할 수도 있다. 또한 SQL과 비슷하게 테이블을 조인할 수 있다. 판다스는 시계열 데이터를 다루는데도 뛰어나다.*\n",
        "*  pandas를 사용하기 위해서는 먼저 pandas를 import 한다. pandas는 크게 세 가지의 자료구조를 지원하고 있는데, 1차원 자료구조인 Series, 2차원 자료구조인 DataFrame, 그리고 3차원 자료구조인 Panel을 지원한다.\n",
        "*  numpy에 비해 pandas는 다른 데이터타입을 담을 수 있는 특징을 가지고 있다.\n",
        "- Series 자료형 : 가장 간단한 1차원 자료구조인 Series는 배열/리스트와 같은 일련의 시퀀스 데이터를 받아들이는데, 별도의 인덱스 레이블을 지정하지 않으면 자동적으로 0부터 시작되는 디폴트 정수 인덱스를 사용한다.\n",
        "- DataFrame : 복수의 열을 가진 2차원 데이터\n",
        "    - 판다스가 잘 하는 일\n",
        "      1. 결측 데이터 처리\n",
        "      2. 데이터 추가 삭제(새로운 열의 추가, 특정 열의 삭제등)\n",
        "      3. 데이터 정렬과 다양한 데이터 조작\n",
        "    - 데이터 불러오기 및 저장하기\n",
        "      - 파이썬 리스트, 딕셔너리, 넘파이 배열을 데이터 프레임으로 변환할 수 있다.\n",
        "      - 판다스로 CSV 파일이나 TSV 파일, 엑셀 파일등을 열 수 있다.\n",
        "      - URL을 통해 웹 사이트의 CSV 또는 JSON 과 같은 원격 파일 또는 데이터베이스를 열 수 있다.\n",
        "\n",
        "*  https://pandas.pydata.org/\n"
      ]
    },
    {
      "cell_type": "markdown",
      "source": [
        "  - 데이터 보기 및 검사\n",
        "    - mean()로 모든 열의 평균을 계산할 수 있다.\n",
        "    - corr()로 데이터 프레임의 열 사이의 상관 관계를 계산할 수 있다.\n",
        "    - count()로 각 데이터 프레임 열에서 null이 아닌 값의 개수를 계산할 수 있다.\n",
        "  - 필터, 정렬 및 그룹화\n",
        "    - sort_values()로 데이터를 정렬할 수 있다.\n",
        "    - 조건을 사용하여 열을 필터링할 수 있다.\n",
        "    - groupby()를 이용하여 기준에 따라 몇 개의 그룹으로 데이터를 분할할 수 있다.\n",
        "  - 데이터 정제\n",
        "    - 데이터의 누락 값을 확인할 수 있다.\n",
        "    - 특정한 값을 다른 값으로 대체할 수 있다."
      ],
      "metadata": {
        "id": "ScjGs5Rc55ZS"
      }
    },
    {
      "cell_type": "markdown",
      "source": [
        "**CSV**\n",
        "  - CSV는 테이블 형식의 데이터를 저장하고 이동하는 데 사용되는 구조화된 텍스트 파일 형식이다.\n",
        "  - CSV는 쉼표로 구분한 변수comma separated variables의 약자이다.\n",
        "  - CSV의 역사는 1972년으로 거슬러 올라가며 Microsoft Excel와 같은 스프레드 시트spread sheet 소프트웨어에 적합한 형식이다.\n",
        "  - 데이터 과학에서 사용되는 데이터 가운데 상당한 비율의 데이터들이 CSV 형식으로 공유되는 경우가 많다.\n",
        "  - CSV 파일은 필드를 나타내는 열과 레코드를 나타내는 행으로 구성\n",
        "  - 만약 데이터의 중간에 구분자가 포함되어야 한다면 따옴표를 사용하여 필드를 묶어야 함\n",
        "    - 예를 들어서 'Gildong, Hong'이라는 데이터가 있다고 하자. 데이터의 중간에 쉼표(,)가 포함되어 있다. 이러한 경우에는 구분자로 사용되는 쉼표와 구분하기 위하여 반드시 데이터를 따옴표로 감싸야 한다.\n",
        "  - CSV 파일의 첫 번째 레코드에는 열 제목이 포함되어 있을 수 있다.\n",
        "    - CSV 형식 자체의 요구사항이 아니라 단순히 일반적인 관행\n",
        "  - CSV 파일의 크기를 알 수 없고 잠재적으로 크기가 큰 경우 한 번에 모든 레코드를 읽지 않는 것이 좋다.\n",
        "    - 이때는 현재 행을 읽고, 현재 행을 처리한 후에 삭제하고 다음 행을 가져오는 방식이 필요할 수도 있다. 아니면 특정한 크기만큼의 데이터를 읽어서 처리한 뒤에, 다음으로 또 그만큼의 크기를 가져오는 방식을 사용할 수도 있을 것이다.\n",
        "\n",
        "\n",
        "\n",
        "   \n",
        "\n"
      ],
      "metadata": {
        "id": "ezp1Zgnc6Jd5"
      }
    },
    {
      "cell_type": "markdown",
      "metadata": {
        "id": "t-ll_lq6EwR7"
      },
      "source": [
        "### pandas 라이브러리 사용"
      ]
    },
    {
      "cell_type": "code",
      "execution_count": null,
      "metadata": {
        "execution": {
          "iopub.execute_input": "2020-10-16T07:31:24.221923Z",
          "iopub.status.busy": "2020-10-16T07:31:24.220070Z",
          "iopub.status.idle": "2020-10-16T07:31:24.555259Z",
          "shell.execute_reply": "2020-10-16T07:31:24.556630Z"
        },
        "id": "4r8SV0bvEwR-"
      },
      "outputs": [],
      "source": []
    },
    {
      "cell_type": "markdown",
      "metadata": {
        "id": "Kbmh9EebEwSB"
      },
      "source": [
        "### **데이터 구조**\n",
        "pandas 라이브러리는 다음과 같은 유용한 데이터 구조를 포함하고 있다.\n",
        "\n",
        "* Series 객체는 1D 배열입니다. (열 이름과 행 레이블을 가진) 스프레드시트의 열과 비슷하다.\n",
        "* DataFrame 객체는 2D 테이블입니다. (열 이름과 행 레이블을 가진) 스프레드시트와 비슷하다."
      ]
    },
    {
      "cell_type": "markdown",
      "metadata": {
        "id": "fU55WMB0EwSD"
      },
      "source": [
        "### **Series 객체 생성**"
      ]
    },
    {
      "cell_type": "code",
      "execution_count": null,
      "metadata": {
        "execution": {
          "iopub.execute_input": "2020-10-16T07:31:24.570090Z",
          "iopub.status.busy": "2020-10-16T07:31:24.568601Z",
          "iopub.status.idle": "2020-10-16T07:31:24.577334Z",
          "shell.execute_reply": "2020-10-16T07:31:24.578463Z"
        },
        "id": "gxsqMyvBEwSE"
      },
      "outputs": [],
      "source": []
    },
    {
      "cell_type": "markdown",
      "metadata": {
        "id": "SP7YZL8KEwSI"
      },
      "source": [
        "Series 객체는 넘파이 ndarray와 비슷하며, 종종 넘파이 함수에 매개변수로 사용된다."
      ]
    },
    {
      "cell_type": "code",
      "execution_count": null,
      "metadata": {
        "execution": {
          "iopub.execute_input": "2020-10-16T07:31:24.588613Z",
          "iopub.status.busy": "2020-10-16T07:31:24.587550Z",
          "iopub.status.idle": "2020-10-16T07:31:24.592275Z",
          "shell.execute_reply": "2020-10-16T07:31:24.593060Z"
        },
        "id": "I-XibEZFEwSJ"
      },
      "outputs": [],
      "source": []
    },
    {
      "cell_type": "markdown",
      "metadata": {
        "id": "T4WyMEupEwSK"
      },
      "source": [
        "Series 객체에 대한 산술 연산 가능하며, ndarray와 비슷하게 연산된다."
      ]
    },
    {
      "cell_type": "code",
      "execution_count": null,
      "metadata": {
        "execution": {
          "iopub.execute_input": "2020-10-16T07:31:24.600732Z",
          "iopub.status.busy": "2020-10-16T07:31:24.599483Z",
          "iopub.status.idle": "2020-10-16T07:31:24.613392Z",
          "shell.execute_reply": "2020-10-16T07:31:24.614382Z"
        },
        "id": "54e1JXurEwSK"
      },
      "outputs": [],
      "source": []
    },
    {
      "cell_type": "markdown",
      "metadata": {
        "id": "DdPU9l9XEwSL"
      },
      "source": [
        "넘파이와 비슷하게 Series 에 하나의 숫자를 더하면 Series에 있는 모든 원소에 더해진다. -> 브로드캐스팅(broadcasting)"
      ]
    },
    {
      "cell_type": "code",
      "execution_count": null,
      "metadata": {
        "execution": {
          "iopub.execute_input": "2020-10-16T07:31:24.623100Z",
          "iopub.status.busy": "2020-10-16T07:31:24.621859Z",
          "iopub.status.idle": "2020-10-16T07:31:24.626335Z",
          "shell.execute_reply": "2020-10-16T07:31:24.627258Z"
        },
        "id": "XcAt7KdWEwSL"
      },
      "outputs": [],
      "source": []
    },
    {
      "cell_type": "code",
      "execution_count": null,
      "metadata": {
        "execution": {
          "iopub.execute_input": "2020-10-16T07:31:24.636724Z",
          "iopub.status.busy": "2020-10-16T07:31:24.635629Z",
          "iopub.status.idle": "2020-10-16T07:31:24.640020Z",
          "shell.execute_reply": "2020-10-16T07:31:24.641002Z"
        },
        "id": "SrVP1cQLEwSM"
      },
      "outputs": [],
      "source": []
    },
    {
      "cell_type": "markdown",
      "metadata": {
        "id": "Al6EcsoREwSN"
      },
      "source": [
        "### **INDEX LABEL**\n",
        "\n",
        "Series 객체에 있는 각 원소는 인덱스 레이블(index label)이라 불리는 고유한 식별자를 가지고 있다. 기본적으로 Series에 있는 원소의 순서이다(`0`에서 시작). 하지만 수동으로 인덱스 레이블을 지정할 수도 있다."
      ]
    },
    {
      "cell_type": "code",
      "execution_count": null,
      "metadata": {
        "execution": {
          "iopub.execute_input": "2020-10-16T07:31:24.652237Z",
          "iopub.status.busy": "2020-10-16T07:31:24.651072Z",
          "iopub.status.idle": "2020-10-16T07:31:24.655568Z",
          "shell.execute_reply": "2020-10-16T07:31:24.656530Z"
        },
        "id": "tuyf0ITrEwSO"
      },
      "outputs": [],
      "source": []
    },
    {
      "cell_type": "markdown",
      "metadata": {
        "id": "RTakh2_aEwSO"
      },
      "source": [
        "그다음 딕셔너리와 유사하게 인덱스명으로 인덱싱할 수 있고 일반 배열처럼 정수 인덱스를 사용하여 원소에 접근할 수도 있다"
      ]
    },
    {
      "cell_type": "code",
      "execution_count": null,
      "metadata": {
        "execution": {
          "iopub.execute_input": "2020-10-16T07:31:24.664537Z",
          "iopub.status.busy": "2020-10-16T07:31:24.663371Z",
          "iopub.status.idle": "2020-10-16T07:31:24.667750Z",
          "shell.execute_reply": "2020-10-16T07:31:24.668655Z"
        },
        "id": "HKgM7hAkEwSO"
      },
      "outputs": [],
      "source": []
    },
    {
      "cell_type": "code",
      "execution_count": null,
      "metadata": {
        "execution": {
          "iopub.execute_input": "2020-10-16T07:31:24.676616Z",
          "iopub.status.busy": "2020-10-16T07:31:24.675524Z",
          "iopub.status.idle": "2020-10-16T07:31:24.680902Z",
          "shell.execute_reply": "2020-10-16T07:31:24.679919Z"
        },
        "id": "FZjIaBRoEwSP"
      },
      "outputs": [],
      "source": []
    },
    {
      "cell_type": "markdown",
      "metadata": {
        "id": "gAFagXy9EwSQ"
      },
      "source": [
        "레이블이나 정수를 사용해 접근할 때 명확하게 하기 위해 레이블은 **loc** 속성을 사용하고 정수는 **iloc** 속성을 사용하는 것이 좋다"
      ]
    },
    {
      "cell_type": "code",
      "execution_count": null,
      "metadata": {
        "execution": {
          "iopub.execute_input": "2020-10-16T07:31:24.688670Z",
          "iopub.status.busy": "2020-10-16T07:31:24.687572Z",
          "iopub.status.idle": "2020-10-16T07:31:24.691843Z",
          "shell.execute_reply": "2020-10-16T07:31:24.692745Z"
        },
        "id": "h_pxvbMwEwSQ"
      },
      "outputs": [],
      "source": []
    },
    {
      "cell_type": "code",
      "execution_count": null,
      "metadata": {
        "execution": {
          "iopub.execute_input": "2020-10-16T07:31:24.700414Z",
          "iopub.status.busy": "2020-10-16T07:31:24.699308Z",
          "iopub.status.idle": "2020-10-16T07:31:24.704534Z",
          "shell.execute_reply": "2020-10-16T07:31:24.703582Z"
        },
        "id": "kL8fl6F0EwSR"
      },
      "outputs": [],
      "source": []
    },
    {
      "cell_type": "markdown",
      "metadata": {
        "id": "X1jWzrbaEwSR"
      },
      "source": [
        "Series는 인덱스 레이블을 슬라이싱할 수도 있다"
      ]
    },
    {
      "cell_type": "code",
      "execution_count": null,
      "metadata": {
        "execution": {
          "iopub.execute_input": "2020-10-16T07:31:24.713637Z",
          "iopub.status.busy": "2020-10-16T07:31:24.712448Z",
          "iopub.status.idle": "2020-10-16T07:31:24.717062Z",
          "shell.execute_reply": "2020-10-16T07:31:24.718032Z"
        },
        "id": "BD7DGzqnEwSS"
      },
      "outputs": [],
      "source": []
    },
    {
      "cell_type": "markdown",
      "metadata": {
        "id": "w0XCS-20EwSS"
      },
      "source": [
        "기본 정수 레이블을 사용한 슬라이싱의 경우, 결과에 대한 인덱스값에 유의해야 한다."
      ]
    },
    {
      "cell_type": "code",
      "execution_count": null,
      "metadata": {
        "execution": {
          "iopub.execute_input": "2020-10-16T07:31:24.727693Z",
          "iopub.status.busy": "2020-10-16T07:31:24.726532Z",
          "iopub.status.idle": "2020-10-16T07:31:24.731715Z",
          "shell.execute_reply": "2020-10-16T07:31:24.730767Z"
        },
        "id": "MNjRrOeKEwSS"
      },
      "outputs": [],
      "source": []
    },
    {
      "cell_type": "markdown",
      "metadata": {
        "id": "-E-S5GAHEwST"
      },
      "source": [
        "아래 슬라이싱 결과에서 인덱스 레이블은 0으로 시작되지 않는다."
      ]
    },
    {
      "cell_type": "code",
      "execution_count": null,
      "metadata": {
        "execution": {
          "iopub.execute_input": "2020-10-16T07:31:24.743690Z",
          "iopub.status.busy": "2020-10-16T07:31:24.742592Z",
          "iopub.status.idle": "2020-10-16T07:31:24.747552Z",
          "shell.execute_reply": "2020-10-16T07:31:24.748475Z"
        },
        "id": "kHaNJN5oEwST"
      },
      "outputs": [],
      "source": []
    },
    {
      "cell_type": "code",
      "execution_count": null,
      "metadata": {
        "execution": {
          "iopub.execute_input": "2020-10-16T07:31:24.756602Z",
          "iopub.status.busy": "2020-10-16T07:31:24.755419Z",
          "iopub.status.idle": "2020-10-16T07:31:24.759801Z",
          "shell.execute_reply": "2020-10-16T07:31:24.760708Z"
        },
        "id": "Qtthn7C9EwST"
      },
      "outputs": [],
      "source": []
    },
    {
      "cell_type": "markdown",
      "metadata": {
        "id": "mitiRzpOEwSU"
      },
      "source": [
        "하지만 iloc 속성을 사용해 정수 인덱스로 원소에 접근할 수 있다. Series 객체를 사용할 때 loc와 iloc를 사용하는 것이 좋은 이유이다"
      ]
    },
    {
      "cell_type": "code",
      "execution_count": null,
      "metadata": {
        "execution": {
          "iopub.execute_input": "2020-10-16T07:31:24.768724Z",
          "iopub.status.busy": "2020-10-16T07:31:24.767621Z",
          "iopub.status.idle": "2020-10-16T07:31:24.772216Z",
          "shell.execute_reply": "2020-10-16T07:31:24.773102Z"
        },
        "id": "XK6pOSJOEwSU"
      },
      "outputs": [],
      "source": []
    },
    {
      "cell_type": "markdown",
      "metadata": {
        "id": "p5f6nEgxEwSU"
      },
      "source": [
        "### **dictionary 를 통한 Series 객체 생성**\n",
        "dict에서 Series 객체를 만들 수 있다. 이때 키는 인덱스 레이블로 사용된다."
      ]
    },
    {
      "cell_type": "code",
      "execution_count": null,
      "metadata": {
        "execution": {
          "iopub.execute_input": "2020-10-16T07:31:24.787621Z",
          "iopub.status.busy": "2020-10-16T07:31:24.786507Z",
          "iopub.status.idle": "2020-10-16T07:31:24.792357Z",
          "shell.execute_reply": "2020-10-16T07:31:24.791273Z"
        },
        "id": "tIuGCsYrEwSV"
      },
      "outputs": [],
      "source": []
    },
    {
      "cell_type": "markdown",
      "metadata": {
        "id": "wRlunOiCEwSV"
      },
      "source": [
        "Series에 포함할 원소를 제어하고 index를 지정하여 명시적으로 순서를 결정할 수 있다."
      ]
    },
    {
      "cell_type": "code",
      "execution_count": null,
      "metadata": {
        "execution": {
          "iopub.execute_input": "2020-10-16T07:31:24.802869Z",
          "iopub.status.busy": "2020-10-16T07:31:24.801619Z",
          "iopub.status.idle": "2020-10-16T07:31:24.805950Z",
          "shell.execute_reply": "2020-10-16T07:31:24.806812Z"
        },
        "id": "b6hVQCEPEwSV"
      },
      "outputs": [],
      "source": []
    },
    {
      "cell_type": "markdown",
      "metadata": {
        "id": "IXlqNZg_EwSW"
      },
      "source": [
        "### **자동 정렬**\n",
        "\n",
        "여러 개의 Series 객체를 다룰 때 pandas는 자동으로 인덱스 레이블에 따라 원소를 정렬합니다."
      ]
    },
    {
      "cell_type": "code",
      "execution_count": null,
      "metadata": {
        "execution": {
          "iopub.execute_input": "2020-10-16T07:31:24.819432Z",
          "iopub.status.busy": "2020-10-16T07:31:24.818333Z",
          "iopub.status.idle": "2020-10-16T07:31:24.824399Z",
          "shell.execute_reply": "2020-10-16T07:31:24.825448Z"
        },
        "id": "EWarPC13EwSW"
      },
      "outputs": [],
      "source": []
    },
    {
      "cell_type": "markdown",
      "metadata": {
        "id": "iKH-IlBKEwSW"
      },
      "source": [
        "만들어진 Series는 s2와 s3의 인덱스 레이블의 합집합을 담고 있습니다. s2에 \"colin\"이 없고 s3에 \"charles\"가 없기 때문에 이 원소는 NaN 값을 가진다.(Not-a-Number는 누락).\n",
        "\n",
        "자동 정렬은 구조가 다르고 누락된 값이 있는 여러 데이터를 다룰 때 매우 편리하지만 올바른 인덱스 레이블을 지정하는 것을 잊는다면 원치않는 결과가 나올수도 있다."
      ]
    },
    {
      "cell_type": "code",
      "execution_count": null,
      "metadata": {
        "execution": {
          "iopub.execute_input": "2020-10-16T07:31:24.839789Z",
          "iopub.status.busy": "2020-10-16T07:31:24.838536Z",
          "iopub.status.idle": "2020-10-16T07:31:24.845810Z",
          "shell.execute_reply": "2020-10-16T07:31:24.846735Z"
        },
        "id": "PGOX4snDEwSX"
      },
      "outputs": [],
      "source": []
    },
    {
      "cell_type": "markdown",
      "metadata": {
        "id": "LondZnuQEwSX"
      },
      "source": [
        "레이블이 하나도 맞지 않기 때문에 판다스가 이 Series를 정렬할 수 없다. 따라서 모두 NaN이 되었다."
      ]
    },
    {
      "cell_type": "markdown",
      "metadata": {
        "id": "zCPTfxSxEwSX"
      },
      "source": [
        "### **스칼라로 초기화**\n",
        "\n",
        "스칼라와 인덱스 레이블의 리스트로 Series 객체를 초기화할 수도 있다. 모든 원소가 이 스칼라 값으로 설정된다."
      ]
    },
    {
      "cell_type": "code",
      "execution_count": null,
      "metadata": {
        "execution": {
          "iopub.execute_input": "2020-10-16T07:31:24.857808Z",
          "iopub.status.busy": "2020-10-16T07:31:24.856592Z",
          "iopub.status.idle": "2020-10-16T07:31:24.861265Z",
          "shell.execute_reply": "2020-10-16T07:31:24.862233Z"
        },
        "id": "d895MrR8EwSX"
      },
      "outputs": [],
      "source": []
    },
    {
      "cell_type": "markdown",
      "metadata": {
        "id": "31Xov1aQEwSY"
      },
      "source": [
        "### **Series 객체 이름정의**\n",
        "\n",
        "`Series`는 `name`을 가질 수 있습니다:"
      ]
    },
    {
      "cell_type": "code",
      "execution_count": null,
      "metadata": {
        "execution": {
          "iopub.execute_input": "2020-10-16T07:31:24.874388Z",
          "iopub.status.busy": "2020-10-16T07:31:24.873208Z",
          "iopub.status.idle": "2020-10-16T07:31:24.878224Z",
          "shell.execute_reply": "2020-10-16T07:31:24.879152Z"
        },
        "id": "87Vgnl_nEwSY"
      },
      "outputs": [],
      "source": []
    },
    {
      "cell_type": "markdown",
      "metadata": {
        "id": "dBZrNIY1EwSY"
      },
      "source": [
        "### **Series 그래프 출력**\n",
        "\n",
        "맷플롯립을 사용해 Series 데이터를 쉽게 그래프로 출력할 수 있다. 맷플롯립을 임포트하고 plot() 메서드를 호출하면 끝"
      ]
    },
    {
      "cell_type": "code",
      "execution_count": null,
      "metadata": {
        "execution": {
          "iopub.execute_input": "2020-10-16T07:31:24.893980Z",
          "iopub.status.busy": "2020-10-16T07:31:24.892680Z",
          "iopub.status.idle": "2020-10-16T07:31:25.181629Z",
          "shell.execute_reply": "2020-10-16T07:31:25.183074Z"
        },
        "scrolled": true,
        "id": "dH7de9-sEwSZ"
      },
      "outputs": [],
      "source": []
    },
    {
      "cell_type": "markdown",
      "metadata": {
        "id": "4mQaSgSTEwSZ"
      },
      "source": [
        "### **date_range() 와 period_range()**\n",
        "\n",
        "많은 데이터셋에 타임스탬프가 포함되어 있다. 판다스는 이런 데이터를 다루는데 장점이 있다:\n",
        "* (2023 03 같은) 기간과 (\"monthly\" 같은) 빈도를 표현할 수 있다.\n",
        "* 기간을 실제 타임스탬프로 변환하거나 그 반대로 변환할 수 있다.\n",
        "* 데이터를 리샘플링하고 원하는 방식으로 값을 모을 수 있다.\n",
        "* 시간대를 다룰 수 있다.\n",
        "* 먼저 pd.date_range()를 사용해 시계열을 만들어 보자. 다음은 2023년 07월 01일 5:30pm에서 시작하여 1시간간격의 12개의 datetime을 가지는 DatetimeIndex를 반환한다."
      ]
    },
    {
      "cell_type": "code",
      "execution_count": null,
      "metadata": {
        "execution": {
          "iopub.execute_input": "2020-10-16T07:31:25.201288Z",
          "iopub.status.busy": "2020-10-16T07:31:25.199933Z",
          "iopub.status.idle": "2020-10-16T07:31:25.204600Z",
          "shell.execute_reply": "2020-10-16T07:31:25.205726Z"
        },
        "id": "XU3gm_A6EwSa"
      },
      "outputs": [],
      "source": []
    },
    {
      "cell_type": "markdown",
      "metadata": {
        "id": "U00QyuunEwSa"
      },
      "source": [
        "이 DatetimeIndex를 Series의 인덱스로 사용할수 있습니다:"
      ]
    },
    {
      "cell_type": "code",
      "execution_count": null,
      "metadata": {
        "execution": {
          "iopub.execute_input": "2020-10-16T07:31:25.217308Z",
          "iopub.status.busy": "2020-10-16T07:31:25.215973Z",
          "iopub.status.idle": "2020-10-16T07:31:25.220460Z",
          "shell.execute_reply": "2020-10-16T07:31:25.221384Z"
        },
        "id": "H_wDDs3xEwSa"
      },
      "outputs": [],
      "source": []
    },
    {
      "cell_type": "markdown",
      "metadata": {
        "id": "Tdz4ydePEwSb"
      },
      "source": [
        "이 시리즈를 그래프로 출력해 보자."
      ]
    },
    {
      "cell_type": "code",
      "execution_count": null,
      "metadata": {
        "execution": {
          "iopub.execute_input": "2020-10-16T07:31:25.250697Z",
          "iopub.status.busy": "2020-10-16T07:31:25.249514Z",
          "iopub.status.idle": "2020-10-16T07:31:25.416215Z",
          "shell.execute_reply": "2020-10-16T07:31:25.417660Z"
        },
        "id": "bJCOahjREwSb"
      },
      "outputs": [],
      "source": []
    },
    {
      "cell_type": "code",
      "source": [],
      "metadata": {
        "id": "uIgitSaXop9z"
      },
      "execution_count": null,
      "outputs": []
    },
    {
      "cell_type": "markdown",
      "metadata": {
        "id": "oSifij8BEwSb"
      },
      "source": [
        "### **리샘플링**\n",
        "\n",
        "판다스는 매우 간단하게 시계열을 리샘플링할 수 있다. resample() 메서드를 호출하고 새로운 주기를 지정하면 된다."
      ]
    },
    {
      "cell_type": "code",
      "execution_count": null,
      "metadata": {
        "execution": {
          "iopub.execute_input": "2020-10-16T07:31:25.425130Z",
          "iopub.status.busy": "2020-10-16T07:31:25.424093Z",
          "iopub.status.idle": "2020-10-16T07:31:25.441445Z",
          "shell.execute_reply": "2020-10-16T07:31:25.440279Z"
        },
        "id": "LbQ8HQIuEwSc"
      },
      "outputs": [],
      "source": []
    },
    {
      "cell_type": "markdown",
      "metadata": {
        "id": "2lWg05fVEwSc"
      },
      "source": [
        "리샘플링 연산은 사실 지연된 연산이다. 그래서 Series 객체 대신 DatetimeIndexResampler 객체가 반환된다. 실제 리샘플링 연산을 수행하려면 mean() 같은 메서드를 호출할 수 있다. 이 메서드는 연속적인 시간 쌍에 대해 평균을 계산한다."
      ]
    },
    {
      "cell_type": "code",
      "execution_count": null,
      "metadata": {
        "execution": {
          "iopub.execute_input": "2020-10-16T07:31:25.448657Z",
          "iopub.status.busy": "2020-10-16T07:31:25.446880Z",
          "iopub.status.idle": "2020-10-16T07:31:25.451798Z",
          "shell.execute_reply": "2020-10-16T07:31:25.452607Z"
        },
        "id": "11nGqpOwEwSc"
      },
      "outputs": [],
      "source": []
    },
    {
      "cell_type": "markdown",
      "metadata": {
        "id": "WNMEhMgiEwSd"
      },
      "source": [
        "결과를 그래프로 출력해 보죠:"
      ]
    },
    {
      "cell_type": "code",
      "execution_count": null,
      "metadata": {
        "execution": {
          "iopub.execute_input": "2020-10-16T07:31:25.510003Z",
          "iopub.status.busy": "2020-10-16T07:31:25.508970Z",
          "iopub.status.idle": "2020-10-16T07:31:25.597932Z",
          "shell.execute_reply": "2020-10-16T07:31:25.599362Z"
        },
        "id": "ILvE_as7EwSd"
      },
      "outputs": [],
      "source": []
    },
    {
      "cell_type": "markdown",
      "metadata": {
        "id": "aZi6q5giEwSd"
      },
      "source": [
        "2시간 간격으로 수집된 값을 확인하면, 예를 들어 18시의 데이터를 보면 6:30pm에서 5.1이고 7:30pm에서 6.1이다. 리샘플링 후에 5.1과 6.1의 평균인 5.6 하나를 얻었다. 평균말고 어떤 집계 함수(aggregation function)도 사용할 수 있다. 예를 들어 각 기간에서 최솟값을 찾을 수 있다."
      ]
    },
    {
      "cell_type": "code",
      "execution_count": null,
      "metadata": {
        "execution": {
          "iopub.execute_input": "2020-10-16T07:31:25.607951Z",
          "iopub.status.busy": "2020-10-16T07:31:25.606867Z",
          "iopub.status.idle": "2020-10-16T07:31:25.611285Z",
          "shell.execute_reply": "2020-10-16T07:31:25.612183Z"
        },
        "id": "HCR6Bz4JEwSd"
      },
      "outputs": [],
      "source": []
    },
    {
      "cell_type": "markdown",
      "metadata": {
        "id": "FShHAvF6EwSe"
      },
      "source": [
        "또는 동일한 효과를 내는 `apply()` 메서드를 사용할 수 있다."
      ]
    },
    {
      "cell_type": "code",
      "execution_count": null,
      "metadata": {
        "execution": {
          "iopub.execute_input": "2020-10-16T07:31:25.629068Z",
          "iopub.status.busy": "2020-10-16T07:31:25.627935Z",
          "iopub.status.idle": "2020-10-16T07:31:25.632613Z",
          "shell.execute_reply": "2020-10-16T07:31:25.633842Z"
        },
        "id": "U-K5I9f6EwSe"
      },
      "outputs": [],
      "source": []
    },
    {
      "cell_type": "markdown",
      "metadata": {
        "id": "SH5MShyhEwSe"
      },
      "source": [
        "### **업샘플링과 보간**\n",
        "\n",
        "업샘플링 : 샘플링의 빈도를 높인다."
      ]
    },
    {
      "cell_type": "code",
      "execution_count": null,
      "metadata": {
        "execution": {
          "iopub.execute_input": "2020-10-16T07:31:25.646456Z",
          "iopub.status.busy": "2020-10-16T07:31:25.645255Z",
          "iopub.status.idle": "2020-10-16T07:31:25.649342Z",
          "shell.execute_reply": "2020-10-16T07:31:25.650294Z"
        },
        "id": "XZT0pHA1EwSe"
      },
      "outputs": [],
      "source": []
    },
    {
      "cell_type": "markdown",
      "metadata": {
        "id": "ySmixu4eEwSf"
      },
      "source": [
        "NaN 값을 채우기 위한 한 방법은 보간법으로 값을 채우는 것이다. 이렇게 하려면 interpolate() 메서드를 호출한다. 기본값은 선형 보간이지만 3차 보간(cubic interpolation) 같은 다른 방법을 선택할 수 있다."
      ]
    },
    {
      "cell_type": "code",
      "execution_count": null,
      "metadata": {
        "execution": {
          "iopub.execute_input": "2020-10-16T07:31:25.661000Z",
          "iopub.status.busy": "2020-10-16T07:31:25.659794Z",
          "iopub.status.idle": "2020-10-16T07:31:25.736426Z",
          "shell.execute_reply": "2020-10-16T07:31:25.735488Z"
        },
        "scrolled": true,
        "id": "Q_2atAeVEwSf"
      },
      "outputs": [],
      "source": []
    },
    {
      "cell_type": "code",
      "execution_count": null,
      "metadata": {
        "execution": {
          "iopub.execute_input": "2020-10-16T07:31:25.766770Z",
          "iopub.status.busy": "2020-10-16T07:31:25.764902Z",
          "iopub.status.idle": "2020-10-16T07:31:25.929920Z",
          "shell.execute_reply": "2020-10-16T07:31:25.931211Z"
        },
        "id": "4sbcMnWjEwSf"
      },
      "outputs": [],
      "source": []
    },
    {
      "cell_type": "markdown",
      "metadata": {
        "id": "vyZ3Xjc3EwSi"
      },
      "source": [
        "### **기간**\n",
        "\n",
        "pd.period_range() 함수는 DatetimeIndex가 아니라 PeriodIndex를 반환한다. 예를 들어 2022년과 2023년의 전체 분기를 가져와 보자.."
      ]
    },
    {
      "cell_type": "code",
      "execution_count": null,
      "metadata": {
        "execution": {
          "iopub.execute_input": "2020-10-16T07:31:26.038037Z",
          "iopub.status.busy": "2020-10-16T07:31:26.036774Z",
          "iopub.status.idle": "2020-10-16T07:31:26.043054Z",
          "shell.execute_reply": "2020-10-16T07:31:26.044094Z"
        },
        "id": "wdHpoU74EwSi"
      },
      "outputs": [],
      "source": []
    },
    {
      "cell_type": "markdown",
      "metadata": {
        "id": "1Z13gZPCEwSj"
      },
      "source": [
        "PeriodIndex에 숫자 N을 추가하면 PeriodIndex 빈도의 N 배만큼 이동시킨다."
      ]
    },
    {
      "cell_type": "code",
      "execution_count": null,
      "metadata": {
        "execution": {
          "iopub.execute_input": "2020-10-16T07:31:26.052480Z",
          "iopub.status.busy": "2020-10-16T07:31:26.051248Z",
          "iopub.status.idle": "2020-10-16T07:31:26.055609Z",
          "shell.execute_reply": "2020-10-16T07:31:26.056455Z"
        },
        "id": "VY6WmR1MEwSj"
      },
      "outputs": [],
      "source": []
    },
    {
      "cell_type": "markdown",
      "metadata": {
        "id": "IaB8JtWmEwSj"
      },
      "source": [
        "asfreq() 메서드를 사용하면 PeriodIndex의 빈도를 바꿀 수 있다. 모든 기간이 늘어나거나 줄어든다. 예를 들어 분기 기간을 모두 월별 기간으로 바꾸어 보자."
      ]
    },
    {
      "cell_type": "code",
      "execution_count": null,
      "metadata": {
        "execution": {
          "iopub.execute_input": "2020-10-16T07:31:26.065095Z",
          "iopub.status.busy": "2020-10-16T07:31:26.064006Z",
          "iopub.status.idle": "2020-10-16T07:31:26.068838Z",
          "shell.execute_reply": "2020-10-16T07:31:26.069767Z"
        },
        "id": "VwYZm0T1EwSj"
      },
      "outputs": [],
      "source": []
    },
    {
      "cell_type": "markdown",
      "metadata": {
        "id": "KrIzYLk2EwSk"
      },
      "source": [
        "기본적으로 asfreq는 각 기간의 끝에 맞춘다. 기간의 시작에 맞추도록 변경할 수 있다."
      ]
    },
    {
      "cell_type": "code",
      "execution_count": null,
      "metadata": {
        "execution": {
          "iopub.execute_input": "2020-10-16T07:31:26.079083Z",
          "iopub.status.busy": "2020-10-16T07:31:26.077918Z",
          "iopub.status.idle": "2020-10-16T07:31:26.082533Z",
          "shell.execute_reply": "2020-10-16T07:31:26.083439Z"
        },
        "id": "fBT7S4ZOEwSk"
      },
      "outputs": [],
      "source": []
    },
    {
      "cell_type": "markdown",
      "metadata": {
        "id": "D7ZeUP6pEwSm"
      },
      "source": [
        "### **DataFrame 객체**\n",
        "\n",
        "데이터프레임 객체는 스프레드시트를 표현한다. 셀 값, 열 이름, 행 인덱스 레이블을 가진다. 다른 열을 바탕으로 열을 계산하는 식을 쓸 수 있고 피봇 테이블을 만들고, 행을 그룹핑하고, 그래프를 그릴 수 있다. DataFrame을 Series의 딕셔너리로 볼 수 있다.\n",
        "\n",
        "### **DataFrame 만들기**\n",
        "\n",
        "Series 객체의 딕셔너리를 전달하여 데이터프레임을 만들 수 있다."
      ]
    },
    {
      "cell_type": "code",
      "execution_count": null,
      "metadata": {
        "execution": {
          "iopub.execute_input": "2020-10-16T07:31:26.323422Z",
          "iopub.status.busy": "2020-10-16T07:31:26.322071Z",
          "iopub.status.idle": "2020-10-16T07:31:26.329974Z",
          "shell.execute_reply": "2020-10-16T07:31:26.330949Z"
        },
        "id": "WsR4EJpuEwSn"
      },
      "outputs": [],
      "source": []
    },
    {
      "cell_type": "markdown",
      "metadata": {
        "id": "d2j3kn1UEwSn"
      },
      "source": [
        "몇가지 알아 두어야 할 것은 다음과 같다.\n",
        "\n",
        "* Series는 인덱스를 기반으로 자동으로 정렬된다.\n",
        "* 누락된 값은 NaN으로 표현된다.\n",
        "* Series 이름은 무시된다(\"year\"란 이름은 삭제된다)."
      ]
    },
    {
      "cell_type": "markdown",
      "metadata": {
        "id": "llZthGc1EwSn"
      },
      "source": [
        "예상하는 방식으로 열을 참조할 수 있고 Serires 객체가 반환된다."
      ]
    },
    {
      "cell_type": "code",
      "execution_count": null,
      "metadata": {
        "execution": {
          "iopub.execute_input": "2020-10-16T07:31:26.337478Z",
          "iopub.status.busy": "2020-10-16T07:31:26.336279Z",
          "iopub.status.idle": "2020-10-16T07:31:26.340155Z",
          "shell.execute_reply": "2020-10-16T07:31:26.341062Z"
        },
        "id": "0_sfP6nzEwSn"
      },
      "outputs": [],
      "source": []
    },
    {
      "cell_type": "markdown",
      "metadata": {
        "id": "rmH3C22lEwSn"
      },
      "source": [
        "동시에 여러 개의 열을 선택할 수 있다."
      ]
    },
    {
      "cell_type": "code",
      "execution_count": null,
      "metadata": {
        "execution": {
          "iopub.execute_input": "2020-10-16T07:31:26.358410Z",
          "iopub.status.busy": "2020-10-16T07:31:26.357116Z",
          "iopub.status.idle": "2020-10-16T07:31:26.362134Z",
          "shell.execute_reply": "2020-10-16T07:31:26.363233Z"
        },
        "id": "gypzul4tEwSo"
      },
      "outputs": [],
      "source": []
    },
    {
      "cell_type": "markdown",
      "metadata": {
        "id": "BO98VeczEwSo"
      },
      "source": [
        "열 리스트나 행 인덱스 레이블을 DataFrame 생성자에 전달하면 해당 열과 행으로 채워진 데이터프레임이 반환된다. 예를 들면:"
      ]
    },
    {
      "cell_type": "code",
      "execution_count": null,
      "metadata": {
        "execution": {
          "iopub.execute_input": "2020-10-16T07:31:26.383281Z",
          "iopub.status.busy": "2020-10-16T07:31:26.381945Z",
          "iopub.status.idle": "2020-10-16T07:31:26.386650Z",
          "shell.execute_reply": "2020-10-16T07:31:26.387670Z"
        },
        "id": "_czWvtSeEwSo"
      },
      "outputs": [],
      "source": []
    },
    {
      "cell_type": "markdown",
      "metadata": {
        "id": "9Y6amHXkEwSo"
      },
      "source": [
        "DataFrame을 만드는 또 다른 편리한 방법은 ndarray나 리스트의 리스트로 모든 값을 생성자에게 전달하고 열 이름과 행 인덱스 레이블을 각기 지정하는 것이다."
      ]
    },
    {
      "cell_type": "code",
      "execution_count": null,
      "metadata": {
        "execution": {
          "iopub.execute_input": "2020-10-16T07:31:26.398021Z",
          "iopub.status.busy": "2020-10-16T07:31:26.396793Z",
          "iopub.status.idle": "2020-10-16T07:31:26.413413Z",
          "shell.execute_reply": "2020-10-16T07:31:26.414561Z"
        },
        "id": "6TqfpBFREwSo"
      },
      "outputs": [],
      "source": []
    },
    {
      "cell_type": "markdown",
      "metadata": {
        "id": "xzOjNHPhEwSp"
      },
      "source": [
        "ndarray 대신에 DataFrame 객체를 전달할 수도 있다."
      ]
    },
    {
      "cell_type": "code",
      "execution_count": null,
      "metadata": {
        "execution": {
          "iopub.execute_input": "2020-10-16T07:31:26.450844Z",
          "iopub.status.busy": "2020-10-16T07:31:26.449596Z",
          "iopub.status.idle": "2020-10-16T07:31:26.454051Z",
          "shell.execute_reply": "2020-10-16T07:31:26.455073Z"
        },
        "id": "HmtgoHSdEwSp"
      },
      "outputs": [],
      "source": []
    },
    {
      "cell_type": "markdown",
      "metadata": {
        "id": "cUFvLQY7EwSp"
      },
      "source": [
        "딕셔너리의 딕셔너리(또는 리스트의 리스트)로 DataFrame을 만들 수 있다."
      ]
    },
    {
      "cell_type": "code",
      "execution_count": null,
      "metadata": {
        "execution": {
          "iopub.execute_input": "2020-10-16T07:31:26.472738Z",
          "iopub.status.busy": "2020-10-16T07:31:26.466378Z",
          "iopub.status.idle": "2020-10-16T07:31:26.476045Z",
          "shell.execute_reply": "2020-10-16T07:31:26.477041Z"
        },
        "id": "p3zpTu8fEwSp"
      },
      "outputs": [],
      "source": []
    },
    {
      "cell_type": "markdown",
      "metadata": {
        "id": "Hv1ebFEREwSq"
      },
      "source": [
        "### **멀티 인덱싱**\n",
        "\n",
        "모든 열이 같은 크기의 튜플이면 멀티 인덱스로 인식한다. 열 인덱스 레이블에도 같은 방식이 적용된다. 예를 들면,"
      ]
    },
    {
      "cell_type": "code",
      "execution_count": null,
      "metadata": {
        "execution": {
          "iopub.execute_input": "2020-10-16T07:31:26.504047Z",
          "iopub.status.busy": "2020-10-16T07:31:26.502935Z",
          "iopub.status.idle": "2020-10-16T07:31:26.507572Z",
          "shell.execute_reply": "2020-10-16T07:31:26.508472Z"
        },
        "id": "ePwE_ifKEwSq"
      },
      "outputs": [],
      "source": []
    },
    {
      "cell_type": "markdown",
      "metadata": {
        "id": "jd59ptQfEwSq"
      },
      "source": [
        "이제 \"public\" 열을 모두 담은 DataFrame을 손쉽게 만들 수 있다."
      ]
    },
    {
      "cell_type": "code",
      "execution_count": null,
      "metadata": {
        "execution": {
          "iopub.execute_input": "2020-10-16T07:31:26.523804Z",
          "iopub.status.busy": "2020-10-16T07:31:26.522714Z",
          "iopub.status.idle": "2020-10-16T07:31:26.527772Z",
          "shell.execute_reply": "2020-10-16T07:31:26.528758Z"
        },
        "id": "N9EDkZ8qEwSq"
      },
      "outputs": [],
      "source": []
    },
    {
      "cell_type": "code",
      "execution_count": null,
      "metadata": {
        "execution": {
          "iopub.execute_input": "2020-10-16T07:31:26.539921Z",
          "iopub.status.busy": "2020-10-16T07:31:26.538672Z",
          "iopub.status.idle": "2020-10-16T07:31:26.543468Z",
          "shell.execute_reply": "2020-10-16T07:31:26.544424Z"
        },
        "id": "7yaUW77kEwSq"
      },
      "outputs": [],
      "source": []
    },
    {
      "cell_type": "markdown",
      "metadata": {
        "id": "Zd2Zw6lNEwSr"
      },
      "source": [
        "### **레벨 낮추기**\n",
        "\n",
        "d5를 다시 확인해 보자."
      ]
    },
    {
      "cell_type": "code",
      "execution_count": null,
      "metadata": {
        "execution": {
          "iopub.execute_input": "2020-10-16T07:31:26.562331Z",
          "iopub.status.busy": "2020-10-16T07:31:26.560989Z",
          "iopub.status.idle": "2020-10-16T07:31:26.565827Z",
          "shell.execute_reply": "2020-10-16T07:31:26.566935Z"
        },
        "id": "9IhfTWvJEwSr"
      },
      "outputs": [],
      "source": []
    },
    {
      "cell_type": "markdown",
      "metadata": {
        "id": "X2bUEv68EwSr"
      },
      "source": [
        "열의 레벨(level)이 2개이고 인덱스 레벨이 2개다. droplevel()을 사용해 열 레벨을 낮출 수 있다(인덱스도 마찬가지이다)"
      ]
    },
    {
      "cell_type": "code",
      "execution_count": null,
      "metadata": {
        "execution": {
          "iopub.execute_input": "2020-10-16T07:31:26.584582Z",
          "iopub.status.busy": "2020-10-16T07:31:26.583237Z",
          "iopub.status.idle": "2020-10-16T07:31:26.587765Z",
          "shell.execute_reply": "2020-10-16T07:31:26.588935Z"
        },
        "id": "zE13dU7YEwSr"
      },
      "outputs": [],
      "source": []
    },
    {
      "cell_type": "markdown",
      "metadata": {
        "id": "c97O3jnuEwSr"
      },
      "source": [
        "### **전치**\n",
        "\n",
        "T 속성을 사용해 열과 인덱스를 바꿀 수 있다."
      ]
    },
    {
      "cell_type": "code",
      "execution_count": null,
      "metadata": {
        "execution": {
          "iopub.execute_input": "2020-10-16T07:31:26.608084Z",
          "iopub.status.busy": "2020-10-16T07:31:26.606912Z",
          "iopub.status.idle": "2020-10-16T07:31:26.611322Z",
          "shell.execute_reply": "2020-10-16T07:31:26.612358Z"
        },
        "id": "haJVked4EwSr"
      },
      "outputs": [],
      "source": []
    },
    {
      "cell_type": "markdown",
      "metadata": {
        "id": "lC2QgsoEEwSr"
      },
      "source": [
        "### **레벨 스택과 언스택**\n",
        "\n",
        "stack() 메서드는 가장 낮은 열 레벨을 가장 낮은 인덱스 뒤에 추가하는 기능을 수행한다."
      ]
    },
    {
      "cell_type": "code",
      "execution_count": null,
      "metadata": {
        "execution": {
          "iopub.execute_input": "2020-10-16T07:31:26.620480Z",
          "iopub.status.busy": "2020-10-16T07:31:26.619233Z",
          "iopub.status.idle": "2020-10-16T07:31:26.645121Z",
          "shell.execute_reply": "2020-10-16T07:31:26.645952Z"
        },
        "id": "TybQMGhFEwSs"
      },
      "outputs": [],
      "source": []
    },
    {
      "cell_type": "markdown",
      "metadata": {
        "id": "KXV9_RfUEwSs"
      },
      "source": [
        "NaN 값이 생겼다. 이전에 없던 조합이 생겼기 때문이다(예를 들어 London에 bob이 없었다).\n",
        "\n",
        "unstack()을 호출하면 반대가 된다. 여기에서도 많은 NaN 값이 생성된다."
      ]
    },
    {
      "cell_type": "code",
      "execution_count": null,
      "metadata": {
        "execution": {
          "iopub.execute_input": "2020-10-16T07:31:26.670564Z",
          "iopub.status.busy": "2020-10-16T07:31:26.669099Z",
          "iopub.status.idle": "2020-10-16T07:31:26.674498Z",
          "shell.execute_reply": "2020-10-16T07:31:26.675704Z"
        },
        "id": "AKGuMOE0EwSs"
      },
      "outputs": [],
      "source": []
    },
    {
      "cell_type": "markdown",
      "metadata": {
        "id": "ehJ21_hmEwSt"
      },
      "source": [
        "대부분의 메서드는 수정된 복사본을 반환한다. stack()과 unstack() 메서드는 객체를 수정하지 않는다. 대신 복사본을 만들어 반환한다. 판다스에 있는 대부분의 메서드들이 이렇게 동작한다."
      ]
    },
    {
      "cell_type": "markdown",
      "metadata": {
        "id": "yfTMHjdbEwSt"
      },
      "source": [
        "### **행 참조하기**"
      ]
    },
    {
      "cell_type": "code",
      "execution_count": null,
      "metadata": {
        "execution": {
          "iopub.execute_input": "2020-10-16T07:31:26.740196Z",
          "iopub.status.busy": "2020-10-16T07:31:26.739030Z",
          "iopub.status.idle": "2020-10-16T07:31:26.743455Z",
          "shell.execute_reply": "2020-10-16T07:31:26.744486Z"
        },
        "id": "CrXk0slkEwSt"
      },
      "outputs": [],
      "source": []
    },
    {
      "cell_type": "markdown",
      "metadata": {
        "id": "iEPQ6x66EwSt"
      },
      "source": [
        "loc 속성으로 열 대신 행을 참조할 수 있다. DataFrame의 열 이름이 행 인덱스 레이블로 매핑된 Series 객체가 반환된다."
      ]
    },
    {
      "cell_type": "code",
      "execution_count": null,
      "metadata": {
        "execution": {
          "iopub.execute_input": "2020-10-16T07:31:26.753868Z",
          "iopub.status.busy": "2020-10-16T07:31:26.752625Z",
          "iopub.status.idle": "2020-10-16T07:31:26.756975Z",
          "shell.execute_reply": "2020-10-16T07:31:26.757905Z"
        },
        "id": "izZpZopzEwSt"
      },
      "outputs": [],
      "source": []
    },
    {
      "cell_type": "markdown",
      "metadata": {
        "id": "x-tzP9ZwEwSt"
      },
      "source": [
        "`iloc` 속성을 사용해 정수 인덱스로 행을 참조할 수 있다."
      ]
    },
    {
      "cell_type": "code",
      "execution_count": null,
      "metadata": {
        "execution": {
          "iopub.execute_input": "2020-10-16T07:31:26.767760Z",
          "iopub.status.busy": "2020-10-16T07:31:26.766655Z",
          "iopub.status.idle": "2020-10-16T07:31:26.771119Z",
          "shell.execute_reply": "2020-10-16T07:31:26.772031Z"
        },
        "id": "UFWPCdlyEwSu"
      },
      "outputs": [],
      "source": []
    },
    {
      "cell_type": "markdown",
      "metadata": {
        "id": "TQIjnmm3EwSu"
      },
      "source": [
        "행을 슬라이싱할 수 있으며 DataFrame 객체가 반환된다."
      ]
    },
    {
      "cell_type": "code",
      "execution_count": null,
      "metadata": {
        "execution": {
          "iopub.execute_input": "2020-10-16T07:31:26.786461Z",
          "iopub.status.busy": "2020-10-16T07:31:26.785104Z",
          "iopub.status.idle": "2020-10-16T07:31:26.789947Z",
          "shell.execute_reply": "2020-10-16T07:31:26.791052Z"
        },
        "id": "5W-jTbmDEwSu"
      },
      "outputs": [],
      "source": []
    },
    {
      "cell_type": "markdown",
      "metadata": {
        "id": "cU_1Umx_EwSu"
      },
      "source": [
        "마자믹으로 불리언 배열을 전달하여 해당하는 행을 가져올 수 있다."
      ]
    },
    {
      "cell_type": "code",
      "execution_count": null,
      "metadata": {
        "execution": {
          "iopub.execute_input": "2020-10-16T07:31:26.808646Z",
          "iopub.status.busy": "2020-10-16T07:31:26.807301Z",
          "iopub.status.idle": "2020-10-16T07:31:26.811968Z",
          "shell.execute_reply": "2020-10-16T07:31:26.813013Z"
        },
        "id": "i4LHN1xkEwSu"
      },
      "outputs": [],
      "source": []
    },
    {
      "cell_type": "markdown",
      "metadata": {
        "id": "2y4u-DUREwSu"
      },
      "source": [
        "불리언 표현식을 사용할 때 아주 유용하다."
      ]
    },
    {
      "cell_type": "code",
      "execution_count": null,
      "metadata": {
        "execution": {
          "iopub.execute_input": "2020-10-16T07:31:26.829832Z",
          "iopub.status.busy": "2020-10-16T07:31:26.828532Z",
          "iopub.status.idle": "2020-10-16T07:31:26.833273Z",
          "shell.execute_reply": "2020-10-16T07:31:26.834311Z"
        },
        "id": "VPaeJQEuEwSv"
      },
      "outputs": [],
      "source": []
    },
    {
      "cell_type": "markdown",
      "metadata": {
        "id": "sCCZDXX0EwSv"
      },
      "source": [
        "### **열 추가, 삭제**\n",
        "\n",
        "DataFrame을 Series의 딕셔너리처럼 다룰 수 있다. 따라서 다음과 같이 쓸 수 있다."
      ]
    },
    {
      "cell_type": "code",
      "execution_count": null,
      "metadata": {
        "execution": {
          "iopub.execute_input": "2020-10-16T07:31:26.848712Z",
          "iopub.status.busy": "2020-10-16T07:31:26.847466Z",
          "iopub.status.idle": "2020-10-16T07:31:26.852951Z",
          "shell.execute_reply": "2020-10-16T07:31:26.851924Z"
        },
        "id": "Ya8D1v1iEwSv"
      },
      "outputs": [],
      "source": []
    },
    {
      "cell_type": "code",
      "execution_count": null,
      "metadata": {
        "execution": {
          "iopub.execute_input": "2020-10-16T07:31:26.873305Z",
          "iopub.status.busy": "2020-10-16T07:31:26.872037Z",
          "iopub.status.idle": "2020-10-16T07:31:26.876795Z",
          "shell.execute_reply": "2020-10-16T07:31:26.877922Z"
        },
        "id": "B_UWX78mEwSv"
      },
      "outputs": [],
      "source": []
    },
    {
      "cell_type": "code",
      "execution_count": null,
      "metadata": {
        "execution": {
          "iopub.execute_input": "2020-10-16T07:31:26.886529Z",
          "iopub.status.busy": "2020-10-16T07:31:26.885421Z",
          "iopub.status.idle": "2020-10-16T07:31:26.890520Z",
          "shell.execute_reply": "2020-10-16T07:31:26.889567Z"
        },
        "id": "7w3scyEyEwSv"
      },
      "outputs": [],
      "source": []
    },
    {
      "cell_type": "markdown",
      "metadata": {
        "id": "H4vF6d4REwSv"
      },
      "source": [
        "새로운 열을 추가할 때 행의 개수는 같아야 한다. 누락된 행은 NaN으로 채워지고 추가적인 행은 무시된다."
      ]
    },
    {
      "cell_type": "code",
      "execution_count": null,
      "metadata": {
        "execution": {
          "iopub.execute_input": "2020-10-16T07:31:26.910981Z",
          "iopub.status.busy": "2020-10-16T07:31:26.909610Z",
          "iopub.status.idle": "2020-10-16T07:31:26.914677Z",
          "shell.execute_reply": "2020-10-16T07:31:26.915783Z"
        },
        "id": "P8a3ZflFEwSw"
      },
      "outputs": [],
      "source": []
    },
    {
      "cell_type": "markdown",
      "metadata": {
        "id": "pHA8F8TnEwSw"
      },
      "source": [
        "새로운 열을 추가할 때 기본적으로 (오른쪽) 끝에 추가된다. insert() 메서드를 사용해 다른 곳에 열을 추가할 수 있다."
      ]
    },
    {
      "cell_type": "code",
      "execution_count": null,
      "metadata": {
        "execution": {
          "iopub.execute_input": "2020-10-16T07:31:26.935076Z",
          "iopub.status.busy": "2020-10-16T07:31:26.933817Z",
          "iopub.status.idle": "2020-10-16T07:31:26.938345Z",
          "shell.execute_reply": "2020-10-16T07:31:26.939377Z"
        },
        "id": "T6L4OGAfEwSw"
      },
      "outputs": [],
      "source": []
    },
    {
      "cell_type": "markdown",
      "metadata": {
        "id": "UJ_UfMCJEwSw"
      },
      "source": [
        "### **새로운 열 할당하기**\n",
        "\n",
        "assign() 메서드를 호출하여 새로운 열을 만들 수도 있다. 이는 새로운 DataFrame 객체를 반환하며 원본 객체는 변경되지 않는다."
      ]
    },
    {
      "cell_type": "code",
      "execution_count": null,
      "metadata": {
        "execution": {
          "iopub.execute_input": "2020-10-16T07:31:26.963676Z",
          "iopub.status.busy": "2020-10-16T07:31:26.962421Z",
          "iopub.status.idle": "2020-10-16T07:31:26.966980Z",
          "shell.execute_reply": "2020-10-16T07:31:26.968012Z"
        },
        "id": "_GQTAUE6EwSw"
      },
      "outputs": [],
      "source": []
    },
    {
      "cell_type": "markdown",
      "metadata": {
        "id": "dwJVhl2tEwSy"
      },
      "source": [
        "### **표현식 평가**\n",
        "\n",
        "판다스가 제공하는 뛰어난 기능 하나는 표현식 평가이다. 이는 numexpr 라이브러리에 의존하기 때문에 설치가 되어 있어야 한다."
      ]
    },
    {
      "cell_type": "code",
      "execution_count": null,
      "metadata": {
        "execution": {
          "iopub.execute_input": "2020-10-16T07:31:27.088939Z",
          "iopub.status.busy": "2020-10-16T07:31:27.087317Z",
          "iopub.status.idle": "2020-10-16T07:31:27.092870Z",
          "shell.execute_reply": "2020-10-16T07:31:27.094182Z"
        },
        "id": "hdNxaUK4EwSy"
      },
      "outputs": [],
      "source": []
    },
    {
      "cell_type": "markdown",
      "metadata": {
        "id": "fBx92IoqEwSy"
      },
      "source": [
        "할당 표현식도 지원된다. inplace=True로 지정하면 수정된 복사본을 만들지 않고 바로 DataFrame을 변경한다."
      ]
    },
    {
      "cell_type": "code",
      "execution_count": null,
      "metadata": {
        "execution": {
          "iopub.execute_input": "2020-10-16T07:31:27.121360Z",
          "iopub.status.busy": "2020-10-16T07:31:27.119766Z",
          "iopub.status.idle": "2020-10-16T07:31:27.124873Z",
          "shell.execute_reply": "2020-10-16T07:31:27.125987Z"
        },
        "id": "qxHcSWi1EwSy"
      },
      "outputs": [],
      "source": []
    },
    {
      "cell_type": "markdown",
      "metadata": {
        "id": "S8Su_XyTEwSz"
      },
      "source": [
        "@를 접두어로 사용하여 지역 변수나 전역 변수를 참조할 수 있다."
      ]
    },
    {
      "cell_type": "code",
      "execution_count": null,
      "metadata": {
        "execution": {
          "iopub.execute_input": "2020-10-16T07:31:27.151724Z",
          "iopub.status.busy": "2020-10-16T07:31:27.150378Z",
          "iopub.status.idle": "2020-10-16T07:31:27.155345Z",
          "shell.execute_reply": "2020-10-16T07:31:27.156398Z"
        },
        "id": "nYQdc_iOEwSz"
      },
      "outputs": [],
      "source": []
    },
    {
      "cell_type": "markdown",
      "metadata": {
        "id": "s3L6U3nSEwSz"
      },
      "source": [
        "### **DataFrame 쿼리하기**\n",
        "\n",
        "query() 메서드를 사용하면 쿼리 표현식에 기반하여 DataFrame을 필터링할 수 있다."
      ]
    },
    {
      "cell_type": "code",
      "execution_count": null,
      "metadata": {
        "execution": {
          "iopub.execute_input": "2020-10-16T07:31:27.180483Z",
          "iopub.status.busy": "2020-10-16T07:31:27.168045Z",
          "iopub.status.idle": "2020-10-16T07:31:27.185677Z",
          "shell.execute_reply": "2020-10-16T07:31:27.186843Z"
        },
        "id": "sU74IAo3EwSz"
      },
      "outputs": [],
      "source": []
    },
    {
      "cell_type": "markdown",
      "metadata": {
        "id": "ixkcWS7yEwSz"
      },
      "source": [
        "### **DataFrame 정렬**\n",
        "\n",
        "sort_index 메서드를 호출하여 DataFrame을 정렬할 수 있다. 기본적으로 인덱스 레이블을 기준으로 오름차순으로 행을 정렬한다. 여기에서는 내림차순으로 정렬해 보자."
      ]
    },
    {
      "cell_type": "code",
      "execution_count": null,
      "metadata": {
        "execution": {
          "iopub.execute_input": "2020-10-16T07:31:27.209165Z",
          "iopub.status.busy": "2020-10-16T07:31:27.207658Z",
          "iopub.status.idle": "2020-10-16T07:31:27.212703Z",
          "shell.execute_reply": "2020-10-16T07:31:27.213844Z"
        },
        "id": "gmH7yXOCEwSz"
      },
      "outputs": [],
      "source": []
    },
    {
      "cell_type": "markdown",
      "metadata": {
        "id": "RDctnXDPEwS0"
      },
      "source": [
        "sort_index는 DataFrame의 정렬된 복사본을 반환한다. people을 직접 수정하려면 inplace 매개변수를 True로 지정한다. 또한 axis=1로 지정하여 열 대신 행을 정렬할 수 있다."
      ]
    },
    {
      "cell_type": "code",
      "execution_count": null,
      "metadata": {
        "execution": {
          "iopub.execute_input": "2020-10-16T07:31:27.235840Z",
          "iopub.status.busy": "2020-10-16T07:31:27.234491Z",
          "iopub.status.idle": "2020-10-16T07:31:27.239396Z",
          "shell.execute_reply": "2020-10-16T07:31:27.240434Z"
        },
        "id": "PmMFIfKDEwS0"
      },
      "outputs": [],
      "source": []
    },
    {
      "cell_type": "markdown",
      "metadata": {
        "id": "DgLiS79TEwS0"
      },
      "source": [
        "레이블이 아니라 값을 기준으로 DataFrame을 정렬하려면 sort_values에 정렬하려는 열을 지정한다."
      ]
    },
    {
      "cell_type": "code",
      "execution_count": null,
      "metadata": {
        "execution": {
          "iopub.execute_input": "2020-10-16T07:31:27.261726Z",
          "iopub.status.busy": "2020-10-16T07:31:27.260351Z",
          "iopub.status.idle": "2020-10-16T07:31:27.265293Z",
          "shell.execute_reply": "2020-10-16T07:31:27.266432Z"
        },
        "id": "T8iMNvgJEwS0"
      },
      "outputs": [],
      "source": []
    },
    {
      "cell_type": "markdown",
      "metadata": {
        "id": "r21VLYVJEwS0"
      },
      "source": [
        "### **DataFrame 그래프 그리기**\n",
        "\n",
        "Series와 마찬가지로 판다스는 DataFrame 기반으로 멋진 그래프를 손쉽게 그릴 수 있다.\n",
        "예를 들어 plot 메서드를 호출하여 DataFrame의 데이터에서 선 그래프를 쉽게 그릴 수 있다."
      ]
    },
    {
      "cell_type": "code",
      "execution_count": null,
      "metadata": {
        "execution": {
          "iopub.execute_input": "2020-10-16T07:31:27.304606Z",
          "iopub.status.busy": "2020-10-16T07:31:27.301491Z",
          "iopub.status.idle": "2020-10-16T07:31:27.517164Z",
          "shell.execute_reply": "2020-10-16T07:31:27.518611Z"
        },
        "id": "RSDYt7CAEwS0"
      },
      "outputs": [],
      "source": []
    },
    {
      "cell_type": "markdown",
      "metadata": {
        "id": "V-YxFz6KEwS0"
      },
      "source": [
        "맷플롯립의 함수가 지원하는 다른 매개변수를 사용할 수 있다. 예를 들어, 산점도를 그릴 때 맷플롯립의 scatter() 함수의 s 매개변수를 사용해 크기를 지정할 수 있다."
      ]
    },
    {
      "cell_type": "code",
      "execution_count": null,
      "metadata": {
        "execution": {
          "iopub.execute_input": "2020-10-16T07:31:27.558226Z",
          "iopub.status.busy": "2020-10-16T07:31:27.556557Z",
          "iopub.status.idle": "2020-10-16T07:31:27.738758Z",
          "shell.execute_reply": "2020-10-16T07:31:27.737322Z"
        },
        "scrolled": true,
        "id": "BtsK_tdkEwS1"
      },
      "outputs": [],
      "source": []
    },
    {
      "cell_type": "markdown",
      "metadata": {
        "id": "ccTsmkwCEwS1"
      },
      "source": [
        "### **DataFrame 연산**\n",
        "\n",
        "DataFrame이 넘파이 배열을 흉내내려는 것은 아니지만 몇 가지 비슷한 점이 있다."
      ]
    },
    {
      "cell_type": "code",
      "execution_count": null,
      "metadata": {
        "execution": {
          "iopub.execute_input": "2020-10-16T07:31:27.757668Z",
          "iopub.status.busy": "2020-10-16T07:31:27.756294Z",
          "iopub.status.idle": "2020-10-16T07:31:27.761443Z",
          "shell.execute_reply": "2020-10-16T07:31:27.762642Z"
        },
        "id": "oOicssy3EwS1"
      },
      "outputs": [],
      "source": []
    },
    {
      "cell_type": "markdown",
      "metadata": {
        "id": "fXnGKfGcEwS1"
      },
      "source": [
        "DataFrame에 넘파이 수학 함수를 적용하면 모든 값에 이 함수가 적용된다."
      ]
    },
    {
      "cell_type": "code",
      "execution_count": null,
      "metadata": {
        "execution": {
          "iopub.execute_input": "2020-10-16T07:31:27.780212Z",
          "iopub.status.busy": "2020-10-16T07:31:27.778767Z",
          "iopub.status.idle": "2020-10-16T07:31:27.783503Z",
          "shell.execute_reply": "2020-10-16T07:31:27.784467Z"
        },
        "id": "J_krQG3oEwS1"
      },
      "outputs": [],
      "source": []
    },
    {
      "cell_type": "markdown",
      "metadata": {
        "id": "gf6JE6waEwS1"
      },
      "source": [
        "비슷하게 DataFrame에 하나의 값을 더하면 DataFrame의 모든 원소에 이 값이 더해진다."
      ]
    },
    {
      "cell_type": "code",
      "execution_count": null,
      "metadata": {
        "execution": {
          "iopub.execute_input": "2020-10-16T07:31:27.798080Z",
          "iopub.status.busy": "2020-10-16T07:31:27.796749Z",
          "iopub.status.idle": "2020-10-16T07:31:27.801579Z",
          "shell.execute_reply": "2020-10-16T07:31:27.802616Z"
        },
        "id": "z9gBTvY8EwS2"
      },
      "outputs": [],
      "source": []
    },
    {
      "cell_type": "markdown",
      "metadata": {
        "id": "ODH09eCcEwS2"
      },
      "source": [
        "물론 산술 연산(`*`,`/`,`**`...)과 조건 연산(`>`, `==`...)을 포함해 모든 이항 연산에도 마찬가지이다."
      ]
    },
    {
      "cell_type": "code",
      "execution_count": null,
      "metadata": {
        "execution": {
          "iopub.execute_input": "2020-10-16T07:31:27.817148Z",
          "iopub.status.busy": "2020-10-16T07:31:27.815851Z",
          "iopub.status.idle": "2020-10-16T07:31:27.820194Z",
          "shell.execute_reply": "2020-10-16T07:31:27.821180Z"
        },
        "scrolled": false,
        "id": "O9TphAWOEwS2"
      },
      "outputs": [],
      "source": []
    },
    {
      "cell_type": "markdown",
      "metadata": {
        "id": "gd6nSUh1EwS2"
      },
      "source": [
        "DataFrame의 max, sum, mean 같은 집계 연산은 각 열에 적용되어 Series 객체가 반환된다."
      ]
    },
    {
      "cell_type": "code",
      "execution_count": null,
      "metadata": {
        "execution": {
          "iopub.execute_input": "2020-10-16T07:31:27.831044Z",
          "iopub.status.busy": "2020-10-16T07:31:27.829879Z",
          "iopub.status.idle": "2020-10-16T07:31:27.835347Z",
          "shell.execute_reply": "2020-10-16T07:31:27.834398Z"
        },
        "id": "FJMPm3mJEwS2"
      },
      "outputs": [],
      "source": []
    },
    {
      "cell_type": "markdown",
      "metadata": {
        "id": "l_FuopU7EwS2"
      },
      "source": [
        "all 메서드도 집계 연산이다. 모든 값이 True인지 아닌지 확인한다. 모든 학생의 점수가 5 이상인 월을 찾아 보자."
      ]
    },
    {
      "cell_type": "code",
      "execution_count": null,
      "metadata": {
        "execution": {
          "iopub.execute_input": "2020-10-16T07:31:27.845808Z",
          "iopub.status.busy": "2020-10-16T07:31:27.844575Z",
          "iopub.status.idle": "2020-10-16T07:31:27.849198Z",
          "shell.execute_reply": "2020-10-16T07:31:27.850237Z"
        },
        "id": "3Bsi6KqvEwS2"
      },
      "outputs": [],
      "source": []
    },
    {
      "cell_type": "code",
      "execution_count": null,
      "metadata": {
        "execution": {
          "iopub.execute_input": "2020-10-16T07:31:27.860089Z",
          "iopub.status.busy": "2020-10-16T07:31:27.858925Z",
          "iopub.status.idle": "2020-10-16T07:31:27.863574Z",
          "shell.execute_reply": "2020-10-16T07:31:27.864558Z"
        },
        "id": "h0QbYRCOEwS3"
      },
      "outputs": [],
      "source": []
    },
    {
      "cell_type": "markdown",
      "metadata": {
        "id": "xpmGJnfpEwS3"
      },
      "source": [
        "any 메서드는 하나라도 참이면 True를 반환한다. 한 번이라도 10점을 받은 사람을 찾아 보자."
      ]
    },
    {
      "cell_type": "code",
      "execution_count": null,
      "metadata": {
        "execution": {
          "iopub.execute_input": "2020-10-16T07:31:27.875152Z",
          "iopub.status.busy": "2020-10-16T07:31:27.873989Z",
          "iopub.status.idle": "2020-10-16T07:31:27.878564Z",
          "shell.execute_reply": "2020-10-16T07:31:27.879476Z"
        },
        "id": "XQYXvLRPEwS3"
      },
      "outputs": [],
      "source": []
    },
    {
      "cell_type": "markdown",
      "metadata": {
        "id": "wce-lSt-EwS3"
      },
      "source": [
        "DataFrame에 Series 객체를 더하면 (또는 다른 이항 연산을 수행하면) 판다스는 DataFrame에 있는 모든 행에 이 연산을 브로드캐스팅한다. 이는 Series 객체가 DataFrame의 행의 개수와 크기가 같을 때만 동작한다. 예를 들어 DataFrame의 mean(Series 객체)을 빼보자."
      ]
    },
    {
      "cell_type": "code",
      "execution_count": null,
      "metadata": {
        "execution": {
          "iopub.execute_input": "2020-10-16T07:31:27.896652Z",
          "iopub.status.busy": "2020-10-16T07:31:27.895549Z",
          "iopub.status.idle": "2020-10-16T07:31:27.900125Z",
          "shell.execute_reply": "2020-10-16T07:31:27.901252Z"
        },
        "id": "ZY2XKRHCEwS4"
      },
      "outputs": [],
      "source": []
    },
    {
      "cell_type": "markdown",
      "metadata": {
        "id": "S0voPgBREwS4"
      },
      "source": [
        "모든 9월 성적에서 7.75를 빼고, 10월 성적에서 8.75를 빼고, 11월 성적에서 7.50을 뺀다."
      ]
    },
    {
      "cell_type": "markdown",
      "metadata": {
        "id": "zlOfCRefEwS4"
      },
      "source": [
        "모든 성적의 전체 평균을 빼고 싶다면 다음과 같은 방법을 사용한다."
      ]
    },
    {
      "cell_type": "code",
      "execution_count": null,
      "metadata": {
        "execution": {
          "iopub.execute_input": "2020-10-16T07:31:27.943417Z",
          "iopub.status.busy": "2020-10-16T07:31:27.942164Z",
          "iopub.status.idle": "2020-10-16T07:31:27.946771Z",
          "shell.execute_reply": "2020-10-16T07:31:27.947804Z"
        },
        "scrolled": true,
        "id": "GK3AuGunEwS4"
      },
      "outputs": [],
      "source": []
    },
    {
      "cell_type": "markdown",
      "metadata": {
        "id": "uCL5oCN8EwS4"
      },
      "source": [
        "### **자동 정렬**\n",
        "\n",
        "Series와 비슷하게 여러 개의 DataFrame에 대한 연산을 수행하면 판다스는 자동으로 행 인덱스 레이블로 정렬하지만 열 이름으로도 정렬할 수 있다. 10월부터 12월까지 보너스 포인트를 담은 DataFrame을 만들어 보자."
      ]
    },
    {
      "cell_type": "code",
      "execution_count": null,
      "metadata": {
        "execution": {
          "iopub.execute_input": "2020-10-16T07:31:27.967853Z",
          "iopub.status.busy": "2020-10-16T07:31:27.966587Z",
          "iopub.status.idle": "2020-10-16T07:31:27.971328Z",
          "shell.execute_reply": "2020-10-16T07:31:27.972440Z"
        },
        "id": "dG4P3O8ZEwS4"
      },
      "outputs": [],
      "source": []
    },
    {
      "cell_type": "code",
      "execution_count": null,
      "metadata": {
        "execution": {
          "iopub.execute_input": "2020-10-16T07:31:27.995052Z",
          "iopub.status.busy": "2020-10-16T07:31:27.993703Z",
          "iopub.status.idle": "2020-10-16T07:31:28.000013Z",
          "shell.execute_reply": "2020-10-16T07:31:28.001109Z"
        },
        "scrolled": true,
        "id": "y15mOQ5UEwS5"
      },
      "outputs": [],
      "source": []
    },
    {
      "cell_type": "markdown",
      "metadata": {
        "id": "6249_BoiEwS5"
      },
      "source": [
        "덧셈 연산이 수행되었지만 너무 많은 원소가 NaN이 되었다. DataFrame을 정렬할 때 일부 열과 행이 한 쪽에만 있기 때문이다. 다른 쪽에는 누락되었다고 간주한다(NaN). NaN에 어떤 수를 더하면 NaN이 된다.\n",
        "\n",
        "### **누락된 데이터 다루기**\n",
        "\n",
        "실제 데이터에서 누락된 데이터를 다루는 경우는 자주 발생한다. 판다스는 누락된 데이터를 다룰 수 있는 몇 가지 방법을 제공한다.\n",
        "\n",
        "위 데이터에 있는 문제를 해결해 보자. 예를 들어, 누락된 데이터는 NaN이 아니라 0이 되어야 한다고 결정할 수 있다. fillna() 메서드를 사용해 모든 NaN 값을 어떤 값으로 바꿀 수 있다."
      ]
    },
    {
      "cell_type": "code",
      "execution_count": null,
      "metadata": {
        "execution": {
          "iopub.execute_input": "2020-10-16T07:31:28.031419Z",
          "iopub.status.busy": "2020-10-16T07:31:28.030067Z",
          "iopub.status.idle": "2020-10-16T07:31:28.036381Z",
          "shell.execute_reply": "2020-10-16T07:31:28.035045Z"
        },
        "scrolled": true,
        "id": "fhHeqXaxEwS5"
      },
      "outputs": [],
      "source": []
    },
    {
      "cell_type": "markdown",
      "metadata": {
        "id": "LSeEGGx4EwS5"
      },
      "source": [
        "9월 점수를 0으로 만드는 것은 맞지 않다. 누락된 점수는 그대로 두고, 누락된 보너스 포인트는 0으로 바꿀 수 있다."
      ]
    },
    {
      "cell_type": "code",
      "execution_count": null,
      "metadata": {
        "execution": {
          "iopub.execute_input": "2020-10-16T07:31:28.066978Z",
          "iopub.status.busy": "2020-10-16T07:31:28.065621Z",
          "iopub.status.idle": "2020-10-16T07:31:28.072091Z",
          "shell.execute_reply": "2020-10-16T07:31:28.070746Z"
        },
        "id": "hsuiBjfSEwS5"
      },
      "outputs": [],
      "source": []
    },
    {
      "cell_type": "markdown",
      "metadata": {
        "id": "3xpdeIhvEwS5"
      },
      "source": [
        "누락된 값을 다루는 또 다른 방법은 보간법이다. bonus_points DataFrame을 다시 보자."
      ]
    },
    {
      "cell_type": "code",
      "execution_count": null,
      "metadata": {
        "execution": {
          "iopub.execute_input": "2020-10-16T07:31:28.088876Z",
          "iopub.status.busy": "2020-10-16T07:31:28.087481Z",
          "iopub.status.idle": "2020-10-16T07:31:28.093651Z",
          "shell.execute_reply": "2020-10-16T07:31:28.092464Z"
        },
        "id": "YtBc9JV3EwS6"
      },
      "outputs": [],
      "source": []
    },
    {
      "cell_type": "markdown",
      "metadata": {
        "id": "mpAHHk0FEwS6"
      },
      "source": [
        "interpolate 메서드를 사용해 보자. 기본적으로 수직 방향(axis=0)으로 보간한다. 따라서 수평으로(axis=1)으로 보간하도록 지정한다."
      ]
    },
    {
      "cell_type": "code",
      "execution_count": null,
      "metadata": {
        "execution": {
          "iopub.execute_input": "2020-10-16T07:31:28.114424Z",
          "iopub.status.busy": "2020-10-16T07:31:28.113078Z",
          "iopub.status.idle": "2020-10-16T07:31:28.119895Z",
          "shell.execute_reply": "2020-10-16T07:31:28.118779Z"
        },
        "scrolled": false,
        "id": "lZE12cgPEwS6"
      },
      "outputs": [],
      "source": []
    },
    {
      "cell_type": "markdown",
      "metadata": {
        "id": "4X7SW2JgEwS6"
      },
      "source": [
        "bob의 보너스 포인트는 10월에 0이고 12월에 2이다. 11월을 보간하면 평균 보너스 포인트 1을 얻는다. colin의 보너스 포인트는 11월에 1이지만 9월에 포인트는 얼마인지 모른다. 따라서 보간할 수 없고 10월의 포인트는 그대로 누락된 값으로 남아 있다. 이를 해결하려면 보간하기 전에 9월의 보너스 포인트를 0으로 설정해야 한다."
      ]
    },
    {
      "cell_type": "code",
      "execution_count": null,
      "metadata": {
        "execution": {
          "iopub.execute_input": "2020-10-16T07:31:28.147938Z",
          "iopub.status.busy": "2020-10-16T07:31:28.146576Z",
          "iopub.status.idle": "2020-10-16T07:31:28.152995Z",
          "shell.execute_reply": "2020-10-16T07:31:28.151814Z"
        },
        "id": "HDBSjvtYEwS6"
      },
      "outputs": [],
      "source": []
    },
    {
      "cell_type": "markdown",
      "metadata": {
        "id": "qyNov_gyEwS6"
      },
      "source": [
        "이제 모든 보너스 포인트가 합리적으로 보간되었다. 최종 점수를 확인해 보자."
      ]
    },
    {
      "cell_type": "code",
      "execution_count": null,
      "metadata": {
        "execution": {
          "iopub.execute_input": "2020-10-16T07:31:28.175899Z",
          "iopub.status.busy": "2020-10-16T07:31:28.174553Z",
          "iopub.status.idle": "2020-10-16T07:31:28.181130Z",
          "shell.execute_reply": "2020-10-16T07:31:28.179772Z"
        },
        "id": "cLTa0626EwS6"
      },
      "outputs": [],
      "source": []
    },
    {
      "cell_type": "markdown",
      "metadata": {
        "id": "wx5VTCMPEwS6"
      },
      "source": [
        "9월 열이 오른쪽에 추가되었는데 좀 이상하다. 이는 더하려는 DataFrame이 정확히 같은 열을 가지고 있지 않기 때문이다(grade DataFrame에는 \"dec\" 열이 없다). 따라서 판다스는 알파벳 순서로 최종 열을 정렬한다. 이를 해결하려면 덧셈을 하기 전에 누락된 열을 추가하면 된다."
      ]
    },
    {
      "cell_type": "code",
      "execution_count": null,
      "metadata": {
        "execution": {
          "iopub.execute_input": "2020-10-16T07:31:28.202239Z",
          "iopub.status.busy": "2020-10-16T07:31:28.200876Z",
          "iopub.status.idle": "2020-10-16T07:31:28.207279Z",
          "shell.execute_reply": "2020-10-16T07:31:28.206121Z"
        },
        "scrolled": true,
        "id": "2iXwh8rpEwS7"
      },
      "outputs": [],
      "source": []
    },
    {
      "cell_type": "markdown",
      "metadata": {
        "id": "8e_VtmN_EwS7"
      },
      "source": [
        "12월과 colin에 대해 할 수 있는 것이 많지 않다. 보너스 포인트를 만드는 것이 나쁘지만 점수를 합리적으로 올릴 수는 없다. dropna() 메서드를 사용해 모두 NaN인 행을 삭제한다."
      ]
    },
    {
      "cell_type": "code",
      "execution_count": null,
      "metadata": {
        "execution": {
          "iopub.execute_input": "2020-10-16T07:31:28.226459Z",
          "iopub.status.busy": "2020-10-16T07:31:28.225200Z",
          "iopub.status.idle": "2020-10-16T07:31:28.231887Z",
          "shell.execute_reply": "2020-10-16T07:31:28.230844Z"
        },
        "id": "VsdHWuQaEwS7"
      },
      "outputs": [],
      "source": []
    },
    {
      "cell_type": "markdown",
      "metadata": {
        "id": "HjZ1RVGsEwS7"
      },
      "source": [
        "그다음 axis 매개변수를 1로 지정하여 모두 NaN인 열을 삭제한다."
      ]
    },
    {
      "cell_type": "code",
      "execution_count": null,
      "metadata": {
        "execution": {
          "iopub.execute_input": "2020-10-16T07:31:28.249932Z",
          "iopub.status.busy": "2020-10-16T07:31:28.248633Z",
          "iopub.status.idle": "2020-10-16T07:31:28.255413Z",
          "shell.execute_reply": "2020-10-16T07:31:28.254162Z"
        },
        "id": "5yFZya4aEwS7"
      },
      "outputs": [],
      "source": []
    },
    {
      "cell_type": "markdown",
      "metadata": {
        "id": "mpV_kKWqEwS7"
      },
      "source": [
        "### **groupby로 집계하기**\n",
        "\n",
        "SQL과 비슷하게 판다스는 데이터를 그룹핑하고 각 그룹에 대해 연산을 수행할 수 있다.\n",
        "\n",
        "먼저 그루핑을 위해 각 사람의 데이터를 추가로 만든다. NaN 값을 어떻게 다루는지 보기 위해 final_grades DataFrame을 다시 사용한다."
      ]
    },
    {
      "cell_type": "code",
      "execution_count": null,
      "metadata": {
        "execution": {
          "iopub.execute_input": "2020-10-16T07:31:28.275015Z",
          "iopub.status.busy": "2020-10-16T07:31:28.273759Z",
          "iopub.status.idle": "2020-10-16T07:31:28.280854Z",
          "shell.execute_reply": "2020-10-16T07:31:28.279781Z"
        },
        "scrolled": true,
        "id": "podrtKunEwS7"
      },
      "outputs": [],
      "source": []
    },
    {
      "cell_type": "markdown",
      "metadata": {
        "id": "IoA6tty0EwS8"
      },
      "source": [
        "hobby로 이 DataFrame을 그룹핑해 보자."
      ]
    },
    {
      "cell_type": "code",
      "execution_count": null,
      "metadata": {
        "execution": {
          "iopub.execute_input": "2020-10-16T07:31:28.289508Z",
          "iopub.status.busy": "2020-10-16T07:31:28.288213Z",
          "iopub.status.idle": "2020-10-16T07:31:28.293911Z",
          "shell.execute_reply": "2020-10-16T07:31:28.294840Z"
        },
        "id": "iA5DMEe2EwS8"
      },
      "outputs": [],
      "source": []
    },
    {
      "cell_type": "markdown",
      "metadata": {
        "id": "UBjcTwQ2EwS8"
      },
      "source": [
        "이제 hobby마다 평균 점수를 계산할 수 있다."
      ]
    },
    {
      "cell_type": "code",
      "execution_count": null,
      "metadata": {
        "execution": {
          "iopub.execute_input": "2020-10-16T07:31:28.315872Z",
          "iopub.status.busy": "2020-10-16T07:31:28.314695Z",
          "iopub.status.idle": "2020-10-16T07:31:28.320059Z",
          "shell.execute_reply": "2020-10-16T07:31:28.321150Z"
        },
        "id": "4Rgj2NjPEwS8"
      },
      "outputs": [],
      "source": []
    },
    {
      "cell_type": "markdown",
      "metadata": {
        "id": "FqGpR_hzEwS8"
      },
      "source": [
        "아주 쉽다. 평균을 계산할 때 NaN 값은 그냥 무시된다는 것을 기억하자."
      ]
    },
    {
      "cell_type": "markdown",
      "metadata": {
        "id": "GDdimk6oEwS-"
      },
      "source": [
        "### **함수**\n",
        "\n",
        "큰 DataFrame을 다룰 때 내용을 간단히 요약하는 것이 도움이 된다. 판다스는 이를 위한 몇 가지 함수를 제공한다. 먼저 수치 값, 누락된 값, 텍스트 값이 섞인 큰 DataFrame을 만들자.\n",
        " - fromfunction(함수, (행크기, 열크기))은 매개변수로 함수 형식을 가져와(행크기, 열크기)의 array를 만들어 준다."
      ]
    },
    {
      "cell_type": "code",
      "execution_count": null,
      "metadata": {
        "execution": {
          "iopub.execute_input": "2020-10-16T07:31:28.555609Z",
          "iopub.status.busy": "2020-10-16T07:31:28.554261Z",
          "iopub.status.idle": "2020-10-16T07:31:28.679610Z",
          "shell.execute_reply": "2020-10-16T07:31:28.678101Z"
        },
        "scrolled": false,
        "id": "EiG8GAcEEwS-"
      },
      "outputs": [],
      "source": []
    },
    {
      "cell_type": "markdown",
      "metadata": {
        "id": "mvgqkA1gEwS-"
      },
      "source": [
        "head() 메서드는 처음 5개 행을 반환한다."
      ]
    },
    {
      "cell_type": "code",
      "execution_count": null,
      "metadata": {
        "execution": {
          "iopub.execute_input": "2020-10-16T07:31:28.722714Z",
          "iopub.status.busy": "2020-10-16T07:31:28.715602Z",
          "iopub.status.idle": "2020-10-16T07:31:28.729780Z",
          "shell.execute_reply": "2020-10-16T07:31:28.728244Z"
        },
        "scrolled": false,
        "id": "DelBcwAWEwS-"
      },
      "outputs": [],
      "source": []
    },
    {
      "cell_type": "markdown",
      "metadata": {
        "id": "noQQWU9iEwS-"
      },
      "source": [
        "마지막 5개 행을 반환하는 tail() 함수도 있다. 원하는 행 개수를 전달할 수도 있다."
      ]
    },
    {
      "cell_type": "code",
      "execution_count": null,
      "metadata": {
        "execution": {
          "iopub.execute_input": "2020-10-16T07:31:28.770715Z",
          "iopub.status.busy": "2020-10-16T07:31:28.768959Z",
          "iopub.status.idle": "2020-10-16T07:31:28.775307Z",
          "shell.execute_reply": "2020-10-16T07:31:28.776741Z"
        },
        "id": "zq4wCEA6EwS-"
      },
      "outputs": [],
      "source": []
    },
    {
      "cell_type": "markdown",
      "metadata": {
        "id": "w0HRfKWpEwS_"
      },
      "source": [
        "info() 메서드는 각 열의 내용을 요약하여 출력한다."
      ]
    },
    {
      "cell_type": "code",
      "execution_count": null,
      "metadata": {
        "execution": {
          "iopub.execute_input": "2020-10-16T07:31:28.790461Z",
          "iopub.status.busy": "2020-10-16T07:31:28.789327Z",
          "iopub.status.idle": "2020-10-16T07:31:28.806423Z",
          "shell.execute_reply": "2020-10-16T07:31:28.805155Z"
        },
        "scrolled": false,
        "id": "qDQgkbNrEwS_"
      },
      "outputs": [],
      "source": []
    },
    {
      "cell_type": "markdown",
      "metadata": {
        "id": "r--vE_wNEwS_"
      },
      "source": [
        "마지막으로 describe() 메서드는 각 열에 대한 주요 집계 연산을 수행한 결과를 보여준다.\n",
        "\n",
        "* count: null(NaN)이 아닌 값의 개수\n",
        "* mean: null이 아닌 값의 평균\n",
        "* std: null이 아닌 값의 표준 편차\n",
        "* min: null이 아닌 값의 최솟값\n",
        "* 25%, 50%, 75%: null이 아닌 값의 25번째, 50번째, 75번째 백분위수\n",
        "* max: null이 아닌 값의 최댓값"
      ]
    },
    {
      "cell_type": "code",
      "execution_count": null,
      "metadata": {
        "execution": {
          "iopub.execute_input": "2020-10-16T07:31:28.816862Z",
          "iopub.status.busy": "2020-10-16T07:31:28.815373Z",
          "iopub.status.idle": "2020-10-16T07:31:28.980652Z",
          "shell.execute_reply": "2020-10-16T07:31:28.979733Z"
        },
        "scrolled": false,
        "id": "vwxrD_gwEwS_"
      },
      "outputs": [],
      "source": []
    },
    {
      "cell_type": "markdown",
      "metadata": {
        "id": "ePkkGQfpEwS_"
      },
      "source": [
        "### **저장 & 로딩**\n",
        "\n",
        "판다스는 DataFrame를 여러 가지 포맷으로 저장할 수 있다. CSV, Excel, JSON, HTML, HDF5, SQL 데이터베이스 같은 포맷이 가능하다."
      ]
    },
    {
      "cell_type": "code",
      "execution_count": null,
      "metadata": {
        "execution": {
          "iopub.execute_input": "2020-10-16T07:31:29.000434Z",
          "iopub.status.busy": "2020-10-16T07:31:28.999329Z",
          "iopub.status.idle": "2020-10-16T07:31:29.004808Z",
          "shell.execute_reply": "2020-10-16T07:31:29.005902Z"
        },
        "id": "rU13Bb6LEwS_"
      },
      "outputs": [],
      "source": []
    },
    {
      "cell_type": "markdown",
      "metadata": {
        "id": "_x0yR9-TEwS_"
      },
      "source": [
        "### **저장**\n",
        "\n",
        "CSV, HTML, JSON로 저장해 보자."
      ]
    },
    {
      "cell_type": "code",
      "execution_count": null,
      "metadata": {
        "execution": {
          "iopub.execute_input": "2020-10-16T07:31:29.014207Z",
          "iopub.status.busy": "2020-10-16T07:31:29.013037Z",
          "iopub.status.idle": "2020-10-16T07:31:29.057312Z",
          "shell.execute_reply": "2020-10-16T07:31:29.056173Z"
        },
        "id": "x9RGbYyzEwTA"
      },
      "outputs": [],
      "source": []
    },
    {
      "cell_type": "markdown",
      "metadata": {
        "id": "EG6O--naEwTA"
      },
      "source": [
        "저장된 내용을 확인해 보자."
      ]
    },
    {
      "cell_type": "code",
      "execution_count": null,
      "metadata": {
        "execution": {
          "iopub.execute_input": "2020-10-16T07:31:29.067993Z",
          "iopub.status.busy": "2020-10-16T07:31:29.066881Z",
          "iopub.status.idle": "2020-10-16T07:31:29.081991Z",
          "shell.execute_reply": "2020-10-16T07:31:29.080808Z"
        },
        "id": "PPsZYMl9EwTA"
      },
      "outputs": [],
      "source": []
    },
    {
      "cell_type": "markdown",
      "metadata": {
        "id": "EbyCWOvNEwTD"
      },
      "source": [
        "인덱스는 (이름 없이) CSV 파일의 첫 번째 열에 저장되었다. HTML에서는 <th> 태그와 JSON에서는 키로 저장되었다.\n",
        "\n",
        "다른 포맷으로 저장하는 것도 비슷하다. 하지만 일부 포맷은 추가적인 라이브러리 설치가 필요할 수도 있다. 예를 들어, 엑셀로 저장하려면 openpyxl 라이브러리가 필요할수도 있다."
      ]
    },
    {
      "cell_type": "code",
      "execution_count": null,
      "metadata": {
        "execution": {
          "iopub.execute_input": "2020-10-16T07:31:29.092332Z",
          "iopub.status.busy": "2020-10-16T07:31:29.090986Z",
          "iopub.status.idle": "2020-10-16T07:31:29.098706Z",
          "shell.execute_reply": "2020-10-16T07:31:29.097724Z"
        },
        "id": "j9hZtSBMEwTE"
      },
      "outputs": [],
      "source": []
    },
    {
      "cell_type": "markdown",
      "metadata": {
        "id": "3NTPPXDqEwTE"
      },
      "source": [
        "### **로딩**\n",
        "\n",
        "CSV 파일을 DataFrame으로 로드해 보자."
      ]
    },
    {
      "cell_type": "code",
      "source": [],
      "metadata": {
        "id": "Sh09owopKVdb"
      },
      "execution_count": null,
      "outputs": []
    },
    {
      "cell_type": "markdown",
      "metadata": {
        "id": "-HOoL8GhEwTE"
      },
      "source": [
        "read_json, read_html, read_excel 함수도 있다. 인터넷에서 데이터를 바로 읽을 수도 있다. 예를 들어 깃허브에서 1,000개의 U.S. 도시를 로드해 보자."
      ]
    },
    {
      "cell_type": "code",
      "execution_count": null,
      "metadata": {
        "execution": {
          "iopub.execute_input": "2020-10-16T07:31:29.140192Z",
          "iopub.status.busy": "2020-10-16T07:31:29.138604Z",
          "iopub.status.idle": "2020-10-16T07:31:29.323556Z",
          "shell.execute_reply": "2020-10-16T07:31:29.322579Z"
        },
        "id": "pGlfIiN8EwTE"
      },
      "outputs": [],
      "source": []
    },
    {
      "cell_type": "markdown",
      "metadata": {
        "id": "dJ14Rz3DEwTF"
      },
      "source": [
        "### **DataFrame 합치기**\n",
        "\n",
        "### **SQL 조인**\n",
        "\n",
        "판다스의 강력한 기능 중 하나는 DataFrame에 대해 SQL 같은 조인(join)을 수행할 수 있는 것이다. 여러 종류의 조인이 지원된다. 이너 조인(inner join), 레프트/라이트 아우터 조인(left/right outer join), 풀 조인(full join)이다."
      ]
    },
    {
      "cell_type": "code",
      "execution_count": null,
      "metadata": {
        "execution": {
          "iopub.execute_input": "2020-10-16T07:31:29.346066Z",
          "iopub.status.busy": "2020-10-16T07:31:29.344663Z",
          "iopub.status.idle": "2020-10-16T07:31:29.351634Z",
          "shell.execute_reply": "2020-10-16T07:31:29.350373Z"
        },
        "id": "I4rgYSC0EwTF"
      },
      "outputs": [],
      "source": []
    },
    {
      "cell_type": "code",
      "execution_count": null,
      "metadata": {
        "execution": {
          "iopub.execute_input": "2020-10-16T07:31:29.372130Z",
          "iopub.status.busy": "2020-10-16T07:31:29.370659Z",
          "iopub.status.idle": "2020-10-16T07:31:29.376662Z",
          "shell.execute_reply": "2020-10-16T07:31:29.375633Z"
        },
        "id": "fKyg99M4EwTF"
      },
      "outputs": [],
      "source": []
    },
    {
      "cell_type": "markdown",
      "metadata": {
        "id": "N7kkkxNlEwTF"
      },
      "source": [
        "이제 merge() 함수를 사용해 이 DataFrame을 조인해 보자."
      ]
    },
    {
      "cell_type": "code",
      "execution_count": null,
      "metadata": {
        "execution": {
          "iopub.execute_input": "2020-10-16T07:31:29.401493Z",
          "iopub.status.busy": "2020-10-16T07:31:29.400088Z",
          "iopub.status.idle": "2020-10-16T07:31:29.407147Z",
          "shell.execute_reply": "2020-10-16T07:31:29.405772Z"
        },
        "id": "mweIlwq5EwTF"
      },
      "outputs": [],
      "source": []
    },
    {
      "cell_type": "markdown",
      "metadata": {
        "id": "BRG645T7EwTF"
      },
      "source": [
        "두 DataFrame은 state란 이름의 열을 가지고 있으므로 state_x와 state_y로 이름이 바뀌었다.\n",
        "\n",
        "또한 Cleveland, Salt Lake City, Houston은 두 DataFrame에 모두 존재하지 않기 때문에 삭제되었다. SQL의 INNER JOIN과 동일하다. 도시를 삭제하지 않고 NaN으로 채우는 FULL OUTER JOIN을 원하면 how=\"outer\"`로 지정한다."
      ]
    },
    {
      "cell_type": "code",
      "execution_count": null,
      "metadata": {
        "execution": {
          "iopub.execute_input": "2020-10-16T07:31:29.435099Z",
          "iopub.status.busy": "2020-10-16T07:31:29.433483Z",
          "iopub.status.idle": "2020-10-16T07:31:29.439267Z",
          "shell.execute_reply": "2020-10-16T07:31:29.440577Z"
        },
        "id": "QbFIM7h8EwTG"
      },
      "outputs": [],
      "source": []
    },
    {
      "cell_type": "markdown",
      "metadata": {
        "id": "JQLKEKjkEwTG"
      },
      "source": [
        "물론 LEFT OUTER JOIN은 how=\"left\"로 지정할 수 있다. 왼쪽의 DataFrame에 있는 도시만 남는다. 비슷하게 how=\"right\"는 오른쪽 DataFrame에 있는 도시만 결과에 남는다. 예를 들면:"
      ]
    },
    {
      "cell_type": "code",
      "execution_count": null,
      "metadata": {
        "execution": {
          "iopub.execute_input": "2020-10-16T07:31:29.465273Z",
          "iopub.status.busy": "2020-10-16T07:31:29.454940Z",
          "iopub.status.idle": "2020-10-16T07:31:29.472015Z",
          "shell.execute_reply": "2020-10-16T07:31:29.470685Z"
        },
        "id": "qnSPQuG7EwTG"
      },
      "outputs": [],
      "source": []
    },
    {
      "cell_type": "markdown",
      "metadata": {
        "id": "xwdFMdo_EwTG"
      },
      "source": [
        "조인할 키가 DataFrame 인덱스라면 left_index=True나 right_index=True로 지정해야 한다. 키 열의 이름이 다르면 left_on과 right_on을 사용한다. 예를 들어:"
      ]
    },
    {
      "cell_type": "code",
      "execution_count": null,
      "metadata": {
        "execution": {
          "iopub.execute_input": "2020-10-16T07:31:29.498246Z",
          "iopub.status.busy": "2020-10-16T07:31:29.496603Z",
          "iopub.status.idle": "2020-10-16T07:31:29.503085Z",
          "shell.execute_reply": "2020-10-16T07:31:29.504399Z"
        },
        "id": "Hgn074NCEwTG"
      },
      "outputs": [],
      "source": []
    },
    {
      "cell_type": "markdown",
      "metadata": {
        "id": "RJWIZXqbEwTG"
      },
      "source": [
        "### **연결**\n",
        "\n",
        "DataFrame을 조인하는 대신 그냥 연결할 수도 있다. concat() 함수가 하는 일이다."
      ]
    },
    {
      "cell_type": "code",
      "execution_count": null,
      "metadata": {
        "execution": {
          "iopub.execute_input": "2020-10-16T07:31:29.528602Z",
          "iopub.status.busy": "2020-10-16T07:31:29.527026Z",
          "iopub.status.idle": "2020-10-16T07:31:29.533411Z",
          "shell.execute_reply": "2020-10-16T07:31:29.532303Z"
        },
        "id": "rXyBOeGfEwTG"
      },
      "outputs": [],
      "source": []
    },
    {
      "cell_type": "markdown",
      "metadata": {
        "id": "_eQpDrVhEwTH"
      },
      "source": [
        "이 연산은 (행을 따라) 수직적으로 데이터를 연결하고 (열을 따라) 수평으로 연결하지 않는다. 이 예에서 동일한 인덱스를 가진 행이 있다(예를 들면 3)."
      ]
    },
    {
      "cell_type": "code",
      "execution_count": null,
      "metadata": {
        "execution": {
          "iopub.execute_input": "2020-10-16T07:31:29.552161Z",
          "iopub.status.busy": "2020-10-16T07:31:29.550911Z",
          "iopub.status.idle": "2020-10-16T07:31:29.557417Z",
          "shell.execute_reply": "2020-10-16T07:31:29.556343Z"
        },
        "id": "6N9_tqGWEwTH"
      },
      "outputs": [],
      "source": []
    },
    {
      "cell_type": "markdown",
      "metadata": {
        "id": "D8gTF8iyEwTH"
      },
      "source": [
        "또는 인덱스를 무시하도록 설정할 수 있다."
      ]
    },
    {
      "cell_type": "code",
      "execution_count": null,
      "metadata": {
        "execution": {
          "iopub.execute_input": "2020-10-16T07:31:29.579980Z",
          "iopub.status.busy": "2020-10-16T07:31:29.578727Z",
          "iopub.status.idle": "2020-10-16T07:31:29.585613Z",
          "shell.execute_reply": "2020-10-16T07:31:29.584416Z"
        },
        "id": "6stcSNxJEwTH"
      },
      "outputs": [],
      "source": []
    },
    {
      "cell_type": "markdown",
      "metadata": {
        "id": "HFZQCngbEwTH"
      },
      "source": [
        "한 DataFrame에 열이 없을 때 NaN이 채워져 있는 것처럼 동작한다. join=\"inner\"로 설정하면 양쪽의 DataFrame에 존재하는 열만 반환된다."
      ]
    },
    {
      "cell_type": "code",
      "execution_count": null,
      "metadata": {
        "execution": {
          "iopub.execute_input": "2020-10-16T07:31:29.604735Z",
          "iopub.status.busy": "2020-10-16T07:31:29.603386Z",
          "iopub.status.idle": "2020-10-16T07:31:29.609400Z",
          "shell.execute_reply": "2020-10-16T07:31:29.608131Z"
        },
        "id": "bCl6r0ZzEwTH"
      },
      "outputs": [],
      "source": []
    },
    {
      "cell_type": "markdown",
      "metadata": {
        "id": "zXkCZTgaEwTI"
      },
      "source": [
        "axis=1로 설정하면 DataFrame을 수직이 아니라 수평으로 연결할 수 있다."
      ]
    },
    {
      "cell_type": "code",
      "execution_count": null,
      "metadata": {
        "execution": {
          "iopub.execute_input": "2020-10-16T07:31:29.634308Z",
          "iopub.status.busy": "2020-10-16T07:31:29.633045Z",
          "iopub.status.idle": "2020-10-16T07:31:29.639806Z",
          "shell.execute_reply": "2020-10-16T07:31:29.638758Z"
        },
        "scrolled": true,
        "id": "GUukoa19EwTI"
      },
      "outputs": [],
      "source": []
    },
    {
      "cell_type": "markdown",
      "metadata": {
        "id": "QIe6_x-3EwTI"
      },
      "source": [
        "이 경우 인덱스가 잘 정렬되지 않기 때문에 의미가 없다(예를 들어 Cleveland와 San Francisco의 인덱스 레이블이 3이기 때문에 동일한 행에 놓여 있다). 이 DataFrame을 연결하기 전에 도시로 인덱스를 재설정해 보자."
      ]
    },
    {
      "cell_type": "code",
      "execution_count": null,
      "metadata": {
        "execution": {
          "iopub.execute_input": "2020-10-16T07:31:29.667789Z",
          "iopub.status.busy": "2020-10-16T07:31:29.648474Z",
          "iopub.status.idle": "2020-10-16T07:31:29.674949Z",
          "shell.execute_reply": "2020-10-16T07:31:29.673620Z"
        },
        "scrolled": true,
        "id": "pnSFCb9eEwTI"
      },
      "outputs": [],
      "source": []
    },
    {
      "cell_type": "markdown",
      "metadata": {
        "id": "MEbWASCuEwTI"
      },
      "source": [
        "FULL OUTER JOIN을 수행한 것과 비슷하다. 하지만 state 열이 state_x와 state_y로 바뀌지 않았고 city 열이 인덱스가 되었다."
      ]
    },
    {
      "cell_type": "markdown",
      "metadata": {
        "id": "-3hrYtwrEwTI"
      },
      "source": [
        "append() 메서드는 DataFrame을 수직으로 연결하는 단축 메서드이다."
      ]
    },
    {
      "cell_type": "code",
      "execution_count": null,
      "metadata": {
        "execution": {
          "iopub.execute_input": "2020-10-16T07:31:29.698488Z",
          "iopub.status.busy": "2020-10-16T07:31:29.697097Z",
          "iopub.status.idle": "2020-10-16T07:31:29.703373Z",
          "shell.execute_reply": "2020-10-16T07:31:29.702208Z"
        },
        "id": "lnCEbEHIEwTI"
      },
      "outputs": [],
      "source": []
    },
    {
      "cell_type": "markdown",
      "metadata": {
        "id": "UYLXZOZuEwTI"
      },
      "source": [
        "판다스의 다른 메서드와 마찬가지로 append() 메서드는 실제 city_loc을 수정하지 않는다. 복사본을 만들어 수정한 다음 반환한다."
      ]
    },
    {
      "cell_type": "markdown",
      "metadata": {
        "id": "qmsOxmXIEwTJ"
      },
      "source": [
        "### **범주**\n",
        "\n",
        "범주로 표현된 값을 가진 경우가 많다. 예를 들어 1은 여성, 2는 남성이거나 \"A\"는 좋은 것, \"B\"는 평균, \"C\"는 나쁜 것 등이다. 범주형 값을 읽기 힘들고 다루기 번거롭다. 하지만 판다스에서는 간단하다."
      ]
    },
    {
      "cell_type": "code",
      "execution_count": null,
      "metadata": {
        "execution": {
          "iopub.execute_input": "2020-10-16T07:31:29.721192Z",
          "iopub.status.busy": "2020-10-16T07:31:29.719801Z",
          "iopub.status.idle": "2020-10-16T07:31:29.725933Z",
          "shell.execute_reply": "2020-10-16T07:31:29.724844Z"
        },
        "id": "gCx0KLHbEwTJ"
      },
      "outputs": [],
      "source": []
    },
    {
      "cell_type": "markdown",
      "metadata": {
        "id": "H9ipLM5HEwTJ"
      },
      "source": [
        "이제 eco_code열은 의미없는 코드이다. eco_code를 기반으로 새로운 범주형 열을 만들어 보자"
      ]
    },
    {
      "cell_type": "code",
      "execution_count": null,
      "metadata": {
        "execution": {
          "iopub.execute_input": "2020-10-16T07:31:29.736341Z",
          "iopub.status.busy": "2020-10-16T07:31:29.735087Z",
          "iopub.status.idle": "2020-10-16T07:31:29.740551Z",
          "shell.execute_reply": "2020-10-16T07:31:29.739607Z"
        },
        "id": "baSXlxiLEwTJ"
      },
      "outputs": [],
      "source": []
    },
    {
      "cell_type": "markdown",
      "metadata": {
        "id": "p57E0iVqEwTJ"
      },
      "source": [
        "의미있는 이름을 가진 범주를 지정할 수 있다."
      ]
    },
    {
      "cell_type": "code",
      "execution_count": null,
      "metadata": {
        "execution": {
          "iopub.execute_input": "2020-10-16T07:31:29.762234Z",
          "iopub.status.busy": "2020-10-16T07:31:29.760867Z",
          "iopub.status.idle": "2020-10-16T07:31:29.767647Z",
          "shell.execute_reply": "2020-10-16T07:31:29.766196Z"
        },
        "id": "Df-fzGlmEwTJ"
      },
      "outputs": [],
      "source": []
    },
    {
      "cell_type": "markdown",
      "metadata": {
        "id": "HR7g4aeIEwTK"
      },
      "source": [
        "범주형 값은 알파벳 순서가 아니라 범주형 순서로 정렬한다."
      ]
    },
    {
      "cell_type": "code",
      "execution_count": null,
      "metadata": {
        "execution": {
          "iopub.execute_input": "2020-10-16T07:31:29.788100Z",
          "iopub.status.busy": "2020-10-16T07:31:29.786648Z",
          "iopub.status.idle": "2020-10-16T07:31:29.792669Z",
          "shell.execute_reply": "2020-10-16T07:31:29.791639Z"
        },
        "id": "YH0eh-2HEwTK"
      },
      "outputs": [],
      "source": []
    }
  ],
  "metadata": {
    "kernelspec": {
      "display_name": "TensorFlow 2.4 on Python 3.8 & CUDA 11.1",
      "language": "python",
      "name": "python3"
    },
    "language_info": {
      "codemirror_mode": {
        "name": "ipython",
        "version": 3
      },
      "file_extension": ".py",
      "mimetype": "text/x-python",
      "name": "python",
      "nbconvert_exporter": "python",
      "pygments_lexer": "ipython3",
      "version": "3.8.7"
    },
    "toc": {
      "toc_cell": false,
      "toc_number_sections": true,
      "toc_section_display": "none",
      "toc_threshold": 6,
      "toc_window_display": true
    },
    "colab": {
      "provenance": [],
      "include_colab_link": true
    }
  },
  "nbformat": 4,
  "nbformat_minor": 0
}